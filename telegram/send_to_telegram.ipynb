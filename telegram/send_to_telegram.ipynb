{
 "cells": [
  {
   "cell_type": "code",
   "execution_count": null,
   "metadata": {},
   "outputs": [],
   "source": [
    "import requests"
   ]
  },
  {
   "cell_type": "code",
   "execution_count": null,
   "metadata": {},
   "outputs": [],
   "source": [
    "TOKEN = ''\n",
    "CHANNEL_ID = \"-1001807925720\""
   ]
  },
  {
   "cell_type": "code",
   "execution_count": null,
   "metadata": {},
   "outputs": [],
   "source": [
    "url = f\"https://api.telegram.org/bot{TOKEN}/getUpdates\"\n",
    "print(requests.get(url).json())"
   ]
  },
  {
   "cell_type": "code",
   "execution_count": null,
   "metadata": {},
   "outputs": [],
   "source": [
    "def send_telegram(text: str):\n",
    "    token = TOKEN\n",
    "    url = \"https://api.telegram.org/bot\"\n",
    "    channel_id = CHANNEL_ID\n",
    "    url += token\n",
    "    method = url + \"/sendMessage\"\n",
    "\n",
    "    r = requests.post(method, data={\n",
    "         \"chat_id\": channel_id,\n",
    "         \"text\": text\n",
    "          })\n",
    "\n",
    "    if r.status_code != 200:\n",
    "        raise Exception(\"post_text error\")"
   ]
  },
  {
   "cell_type": "code",
   "execution_count": null,
   "metadata": {},
   "outputs": [],
   "source": [
    "send_telegram('fuck')"
   ]
  }
 ],
 "metadata": {
  "kernelspec": {
   "display_name": "telegram-ladIUlV3",
   "language": "python",
   "name": "python3"
  },
  "language_info": {
   "codemirror_mode": {
    "name": "ipython",
    "version": 3
   },
   "file_extension": ".py",
   "mimetype": "text/x-python",
   "name": "python",
   "nbconvert_exporter": "python",
   "pygments_lexer": "ipython3",
   "version": "3.10.6"
  },
  "orig_nbformat": 4
 },
 "nbformat": 4,
 "nbformat_minor": 2
}
