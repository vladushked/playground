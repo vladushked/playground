{
 "metadata": {
  "language_info": {
   "codemirror_mode": {
    "name": "ipython",
    "version": 3
   },
   "file_extension": ".py",
   "mimetype": "text/x-python",
   "name": "python",
   "nbconvert_exporter": "python",
   "pygments_lexer": "ipython3",
   "version": "3.8.5-final"
  },
  "orig_nbformat": 2,
  "kernelspec": {
   "name": "python3",
   "display_name": "Python 3",
   "language": "python"
  }
 },
 "nbformat": 4,
 "nbformat_minor": 2,
 "cells": [
  {
   "cell_type": "code",
   "execution_count": 2,
   "metadata": {},
   "outputs": [],
   "source": [
    "import pandas as pd"
   ]
  },
  {
   "cell_type": "code",
   "execution_count": 5,
   "metadata": {},
   "outputs": [],
   "source": [
    "chalearn_labels_path = \"/home/vlados/datasets/chalearn/Info_devel_valid.txt\""
   ]
  },
  {
   "cell_type": "code",
   "execution_count": 6,
   "metadata": {},
   "outputs": [],
   "source": [
    "chalearn_labels_df = pd.read_csv(chalearn_labels_path, sep=\"\\t\")"
   ]
  },
  {
   "cell_type": "code",
   "execution_count": 7,
   "metadata": {},
   "outputs": [
    {
     "output_type": "execute_result",
     "data": {
      "text/plain": [
       "     Set  Num                           Lexicon UserID              Date  \\\n",
       "0  devel    1  CanadaAviationGroundCirculation1      A  2011 10 05 16 26   \n",
       "1  devel    2          RefereeWrestlingSignals1      I  2011 09 28 14 31   \n",
       "2  devel    3                  GangHandSignals1      L  2011 09 27 12 16   \n",
       "3  devel    4                    DivingSignals2      J  2011 09 26 09 01   \n",
       "4  devel    5                   GestunoDisaster      L  2011 10 11 15 16   \n",
       "\n",
       "   MinDepth  MaxDepth  DepthRes  DepthAcc  Missing  \n",
       "0       801      1964        76         2        0  \n",
       "1       801      1968        71         1        0  \n",
       "2       801      1506        95         1        0  \n",
       "3       801      1869       100         1        0  \n",
       "4       824      1964        91         2        0  "
      ],
      "text/html": "<div>\n<style scoped>\n    .dataframe tbody tr th:only-of-type {\n        vertical-align: middle;\n    }\n\n    .dataframe tbody tr th {\n        vertical-align: top;\n    }\n\n    .dataframe thead th {\n        text-align: right;\n    }\n</style>\n<table border=\"1\" class=\"dataframe\">\n  <thead>\n    <tr style=\"text-align: right;\">\n      <th></th>\n      <th>Set</th>\n      <th>Num</th>\n      <th>Lexicon</th>\n      <th>UserID</th>\n      <th>Date</th>\n      <th>MinDepth</th>\n      <th>MaxDepth</th>\n      <th>DepthRes</th>\n      <th>DepthAcc</th>\n      <th>Missing</th>\n    </tr>\n  </thead>\n  <tbody>\n    <tr>\n      <th>0</th>\n      <td>devel</td>\n      <td>1</td>\n      <td>CanadaAviationGroundCirculation1</td>\n      <td>A</td>\n      <td>2011 10 05 16 26</td>\n      <td>801</td>\n      <td>1964</td>\n      <td>76</td>\n      <td>2</td>\n      <td>0</td>\n    </tr>\n    <tr>\n      <th>1</th>\n      <td>devel</td>\n      <td>2</td>\n      <td>RefereeWrestlingSignals1</td>\n      <td>I</td>\n      <td>2011 09 28 14 31</td>\n      <td>801</td>\n      <td>1968</td>\n      <td>71</td>\n      <td>1</td>\n      <td>0</td>\n    </tr>\n    <tr>\n      <th>2</th>\n      <td>devel</td>\n      <td>3</td>\n      <td>GangHandSignals1</td>\n      <td>L</td>\n      <td>2011 09 27 12 16</td>\n      <td>801</td>\n      <td>1506</td>\n      <td>95</td>\n      <td>1</td>\n      <td>0</td>\n    </tr>\n    <tr>\n      <th>3</th>\n      <td>devel</td>\n      <td>4</td>\n      <td>DivingSignals2</td>\n      <td>J</td>\n      <td>2011 09 26 09 01</td>\n      <td>801</td>\n      <td>1869</td>\n      <td>100</td>\n      <td>1</td>\n      <td>0</td>\n    </tr>\n    <tr>\n      <th>4</th>\n      <td>devel</td>\n      <td>5</td>\n      <td>GestunoDisaster</td>\n      <td>L</td>\n      <td>2011 10 11 15 16</td>\n      <td>824</td>\n      <td>1964</td>\n      <td>91</td>\n      <td>2</td>\n      <td>0</td>\n    </tr>\n  </tbody>\n</table>\n</div>"
     },
     "metadata": {},
     "execution_count": 7
    }
   ],
   "source": [
    "chalearn_labels_df.head()"
   ]
  },
  {
   "cell_type": "code",
   "execution_count": 14,
   "metadata": {},
   "outputs": [
    {
     "output_type": "execute_result",
     "data": {
      "text/plain": [
       "       Set  Num         Lexicon UserID              Date  MinDepth  MaxDepth  \\\n",
       "3    devel    4  DivingSignals2      J  2011 09 26 09 01       801      1869   \n",
       "5    devel    6  DivingSignals3      B  2011 10 15 17 31       832      1931   \n",
       "13   devel   14  DivingSignals4      F  2011 09 30 19 10       801      1438   \n",
       "19   devel   20  DivingSignals1      D  2011 10 10 09 12       809      2505   \n",
       "22   valid    3  DivingSignals2      Z  2011 10 07 15 11       801      1998   \n",
       "..     ...  ...             ...    ...               ...       ...       ...   \n",
       "456  devel  437  DivingSignals4      A  2011 10 13 13 20       801      1711   \n",
       "459  devel  440  DivingSignals2      R  2011 10 07 10 59       861      2857   \n",
       "466  devel  447  DivingSignals4      D  2011 09 30 09 10       801      1916   \n",
       "472  devel  453  DivingSignals4      R  2011 10 03 09 37       801      2045   \n",
       "494  devel  475  DivingSignals1      M  2011 10 05 10 53       801      2560   \n",
       "\n",
       "     DepthRes  DepthAcc  Missing  \n",
       "3         100         1        0  \n",
       "5          96         2        0  \n",
       "13         64         1        0  \n",
       "19        155         2        0  \n",
       "22         85         2        0  \n",
       "..        ...       ...      ...  \n",
       "456        77         2        0  \n",
       "459       142         2        0  \n",
       "466       110         1        0  \n",
       "472       133         2        0  \n",
       "494       163         2        0  \n",
       "\n",
       "[66 rows x 10 columns]"
      ],
      "text/html": "<div>\n<style scoped>\n    .dataframe tbody tr th:only-of-type {\n        vertical-align: middle;\n    }\n\n    .dataframe tbody tr th {\n        vertical-align: top;\n    }\n\n    .dataframe thead th {\n        text-align: right;\n    }\n</style>\n<table border=\"1\" class=\"dataframe\">\n  <thead>\n    <tr style=\"text-align: right;\">\n      <th></th>\n      <th>Set</th>\n      <th>Num</th>\n      <th>Lexicon</th>\n      <th>UserID</th>\n      <th>Date</th>\n      <th>MinDepth</th>\n      <th>MaxDepth</th>\n      <th>DepthRes</th>\n      <th>DepthAcc</th>\n      <th>Missing</th>\n    </tr>\n  </thead>\n  <tbody>\n    <tr>\n      <th>3</th>\n      <td>devel</td>\n      <td>4</td>\n      <td>DivingSignals2</td>\n      <td>J</td>\n      <td>2011 09 26 09 01</td>\n      <td>801</td>\n      <td>1869</td>\n      <td>100</td>\n      <td>1</td>\n      <td>0</td>\n    </tr>\n    <tr>\n      <th>5</th>\n      <td>devel</td>\n      <td>6</td>\n      <td>DivingSignals3</td>\n      <td>B</td>\n      <td>2011 10 15 17 31</td>\n      <td>832</td>\n      <td>1931</td>\n      <td>96</td>\n      <td>2</td>\n      <td>0</td>\n    </tr>\n    <tr>\n      <th>13</th>\n      <td>devel</td>\n      <td>14</td>\n      <td>DivingSignals4</td>\n      <td>F</td>\n      <td>2011 09 30 19 10</td>\n      <td>801</td>\n      <td>1438</td>\n      <td>64</td>\n      <td>1</td>\n      <td>0</td>\n    </tr>\n    <tr>\n      <th>19</th>\n      <td>devel</td>\n      <td>20</td>\n      <td>DivingSignals1</td>\n      <td>D</td>\n      <td>2011 10 10 09 12</td>\n      <td>809</td>\n      <td>2505</td>\n      <td>155</td>\n      <td>2</td>\n      <td>0</td>\n    </tr>\n    <tr>\n      <th>22</th>\n      <td>valid</td>\n      <td>3</td>\n      <td>DivingSignals2</td>\n      <td>Z</td>\n      <td>2011 10 07 15 11</td>\n      <td>801</td>\n      <td>1998</td>\n      <td>85</td>\n      <td>2</td>\n      <td>0</td>\n    </tr>\n    <tr>\n      <th>...</th>\n      <td>...</td>\n      <td>...</td>\n      <td>...</td>\n      <td>...</td>\n      <td>...</td>\n      <td>...</td>\n      <td>...</td>\n      <td>...</td>\n      <td>...</td>\n      <td>...</td>\n    </tr>\n    <tr>\n      <th>456</th>\n      <td>devel</td>\n      <td>437</td>\n      <td>DivingSignals4</td>\n      <td>A</td>\n      <td>2011 10 13 13 20</td>\n      <td>801</td>\n      <td>1711</td>\n      <td>77</td>\n      <td>2</td>\n      <td>0</td>\n    </tr>\n    <tr>\n      <th>459</th>\n      <td>devel</td>\n      <td>440</td>\n      <td>DivingSignals2</td>\n      <td>R</td>\n      <td>2011 10 07 10 59</td>\n      <td>861</td>\n      <td>2857</td>\n      <td>142</td>\n      <td>2</td>\n      <td>0</td>\n    </tr>\n    <tr>\n      <th>466</th>\n      <td>devel</td>\n      <td>447</td>\n      <td>DivingSignals4</td>\n      <td>D</td>\n      <td>2011 09 30 09 10</td>\n      <td>801</td>\n      <td>1916</td>\n      <td>110</td>\n      <td>1</td>\n      <td>0</td>\n    </tr>\n    <tr>\n      <th>472</th>\n      <td>devel</td>\n      <td>453</td>\n      <td>DivingSignals4</td>\n      <td>R</td>\n      <td>2011 10 03 09 37</td>\n      <td>801</td>\n      <td>2045</td>\n      <td>133</td>\n      <td>2</td>\n      <td>0</td>\n    </tr>\n    <tr>\n      <th>494</th>\n      <td>devel</td>\n      <td>475</td>\n      <td>DivingSignals1</td>\n      <td>M</td>\n      <td>2011 10 05 10 53</td>\n      <td>801</td>\n      <td>2560</td>\n      <td>163</td>\n      <td>2</td>\n      <td>0</td>\n    </tr>\n  </tbody>\n</table>\n<p>66 rows × 10 columns</p>\n</div>"
     },
     "metadata": {},
     "execution_count": 14
    }
   ],
   "source": [
    "chalearn_labels_df.loc[chalearn_labels_df[\"Lexicon\"].str.contains(\"Diving\")]"
   ]
  },
  {
   "cell_type": "code",
   "execution_count": null,
   "metadata": {},
   "outputs": [],
   "source": []
  }
 ]
}