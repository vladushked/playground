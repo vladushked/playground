{
 "cells": [
  {
   "cell_type": "markdown",
   "metadata": {},
   "source": [
    "# Генетический алгоритм\n",
    "\n",
    "![alt text](images/image001.jpg)\n",
    "\n",
    "![alt text](images/image002.jpg)\n",
    "\n",
    "![alt text](images/image004.png)\n",
    "\n",
    "![alt text](images/image005.jpg)\n",
    "\n",
    "![alt text](images/image006.jpg)\n",
    "\n",
    "![alt text](images/image007.png)"
   ]
  },
  {
   "cell_type": "code",
   "execution_count": 2,
   "metadata": {},
   "outputs": [],
   "source": [
    "import random\n",
    "import matplotlib.pyplot as plt\n",
    " \n",
    "# константы задачи\n",
    "ONE_MAX_LENGTH = 100    # длина подлежащей оптимизации битовой строки\n",
    " \n",
    "# константы генетического алгоритма\n",
    "POPULATION_SIZE = 200   # количество индивидуумов в популяции\n",
    "P_CROSSOVER = 0.9       # вероятность скрещивания\n",
    "P_MUTATION = 0.1        # вероятность мутации индивидуума\n",
    "MAX_GENERATIONS = 50    # максимальное количество поколений\n",
    "RANDOM_SEED = 42\n",
    "random.seed(RANDOM_SEED)"
   ]
  },
  {
   "cell_type": "code",
   "execution_count": 3,
   "metadata": {},
   "outputs": [],
   "source": [
    "class FitnessMax():\n",
    "    def __init__(self):\n",
    "        self.values = [0]\n",
    "\n",
    "\n",
    "class Individual(list):\n",
    "    def __init__(self, *args):\n",
    "        super().__init__(*args)\n",
    "        self.fitness = FitnessMax()\n",
    "\n",
    "\n",
    "def oneMaxFitness(individual):\n",
    "    return sum(individual),  # кортеж\n",
    "\n",
    "\n",
    "def individualCreator():\n",
    "    return Individual([random.randint(0, 1) for i in range(ONE_MAX_LENGTH)])\n",
    "\n",
    "\n",
    "def populationCreator(n=0):\n",
    "    return list([individualCreator() for i in range(n)])\n"
   ]
  },
  {
   "cell_type": "code",
   "execution_count": 4,
   "metadata": {},
   "outputs": [],
   "source": [
    "population = populationCreator(n=POPULATION_SIZE) \n",
    "generationCounter = 0"
   ]
  },
  {
   "cell_type": "code",
   "execution_count": 5,
   "metadata": {},
   "outputs": [],
   "source": [
    "fitnessValues = list(map(oneMaxFitness, population))\n",
    " \n",
    "for individual, fitnessValue in zip(population, fitnessValues):\n",
    "    individual.fitness.values = fitnessValue"
   ]
  },
  {
   "cell_type": "code",
   "execution_count": 6,
   "metadata": {},
   "outputs": [],
   "source": [
    "maxFitnessValues = []\n",
    "meanFitnessValues = []\n",
    "\n",
    "def clone(value):\n",
    "    ind = Individual(value[:])\n",
    "    ind.fitness.values[0] = value.fitness.values[0]\n",
    "    return ind\n",
    " \n",
    " \n",
    "def selTournament(population, p_len):\n",
    "    offspring = []\n",
    "    for n in range(p_len):\n",
    "        i1 = i2 = i3 = 0\n",
    "        while i1 == i2 or i1 == i3 or i2 == i3:\n",
    "            i1, i2, i3 = random.randint(0, p_len-1), random.randint(0, p_len-1), random.randint(0, p_len-1)\n",
    " \n",
    "        offspring.append(max([population[i1], population[i2], population[i3]], key=lambda ind: ind.fitness.values[0]))\n",
    " \n",
    "    return offspring\n",
    " \n",
    " \n",
    "def cxOnePoint(child1, child2):\n",
    "    s = random.randint(2, len(child1)-3)\n",
    "    child1[s:], child2[s:] = child2[s:], child1[s:]\n",
    " \n",
    " \n",
    "def mutFlipBit(mutant, indpb=0.01):\n",
    "    for indx in range(len(mutant)):\n",
    "        if random.random() < indpb:\n",
    "            mutant[indx] = 0 if mutant[indx] == 1 else 1"
   ]
  },
  {
   "cell_type": "code",
   "execution_count": 7,
   "metadata": {},
   "outputs": [],
   "source": [
    "fitnessValues = [individual.fitness.values[0] for individual in population]"
   ]
  },
  {
   "cell_type": "code",
   "execution_count": 8,
   "metadata": {},
   "outputs": [
    {
     "name": "stdout",
     "output_type": "stream",
     "text": [
      "Поколение 1: Макс приспособ. = 63, Средняя приспособ.= 53.53\n",
      "Лучший индивидуум =  1 1 1 0 1 1 1 0 1 0 1 1 0 1 0 0 0 0 1 0 0 0 1 0 1 1 1 1 1 1 1 1 0 0 1 1 1 0 0 1 1 1 1 1 1 0 1 0 0 1 1 0 1 1 1 1 1 0 0 1 0 1 1 1 1 1 1 0 0 0 1 0 1 1 0 1 1 1 0 1 0 1 0 0 1 1 1 1 1 1 1 0 0 0 0 1 1 0 1 1 \n",
      "\n",
      "Поколение 2: Макс приспособ. = 66, Средняя приспособ.= 56.625\n",
      "Лучший индивидуум =  1 0 0 1 0 1 1 0 1 0 0 1 1 1 0 1 1 0 0 0 1 0 1 1 0 0 1 1 1 1 1 1 1 1 0 1 1 1 0 0 1 1 1 1 1 1 1 0 1 1 1 0 0 1 1 0 1 1 0 1 1 1 1 1 1 0 1 1 1 1 0 1 0 1 0 1 1 0 0 1 1 1 1 1 0 1 1 1 0 1 1 1 0 0 1 1 0 0 0 1 \n",
      "\n",
      "Поколение 3: Макс приспособ. = 67, Средняя приспособ.= 59.245\n",
      "Лучший индивидуум =  0 1 1 1 0 1 1 0 1 1 1 1 1 1 1 0 1 0 1 0 0 0 1 1 1 1 0 1 1 0 0 0 0 0 1 0 0 1 1 0 1 1 1 1 1 0 1 1 1 1 1 0 0 1 1 0 1 1 0 1 1 1 1 1 1 0 1 1 1 1 0 1 0 1 0 1 1 0 0 1 1 1 1 1 0 1 1 1 0 1 1 1 0 0 1 1 1 0 1 1 \n",
      "\n",
      "Поколение 4: Макс приспособ. = 70, Средняя приспособ.= 61.97\n",
      "Лучший индивидуум =  1 1 1 1 1 1 1 1 0 1 0 0 1 0 0 1 1 1 1 0 1 0 1 1 0 0 1 1 1 1 1 1 1 1 0 1 1 1 0 0 1 1 1 1 1 1 1 0 1 1 1 0 0 1 1 0 1 1 0 1 1 1 1 1 1 0 1 1 1 1 0 1 0 1 1 1 1 1 1 0 0 1 0 0 0 1 1 0 1 0 1 0 1 0 1 1 1 0 1 1 \n",
      "\n",
      "Поколение 5: Макс приспособ. = 72, Средняя приспособ.= 64.375\n",
      "Лучший индивидуум =  1 0 0 1 1 0 1 0 1 1 1 1 1 1 1 1 1 1 1 1 1 1 0 1 0 1 1 1 1 1 1 0 0 0 0 1 1 0 0 1 1 1 0 1 1 1 0 1 1 0 0 1 0 1 0 1 1 0 1 1 0 1 1 0 0 1 1 1 1 1 1 1 1 1 1 1 1 1 1 0 0 0 0 1 1 1 1 1 1 1 1 1 1 1 1 0 1 0 1 1 \n",
      "\n",
      "Поколение 6: Макс приспособ. = 73, Средняя приспособ.= 66.69\n",
      "Лучший индивидуум =  0 1 1 1 1 1 1 0 1 0 0 1 1 1 1 1 1 0 0 0 1 0 1 1 0 0 1 1 1 1 1 1 1 1 0 1 1 1 0 1 1 1 1 1 1 1 1 0 1 1 1 0 0 1 1 0 1 1 1 1 1 1 1 1 1 0 1 1 1 1 0 1 0 1 0 1 1 0 0 1 1 1 1 1 0 1 1 1 0 1 1 1 0 0 1 1 1 0 1 1 \n",
      "\n",
      "Поколение 7: Макс приспособ. = 75, Средняя приспособ.= 69.045\n",
      "Лучший индивидуум =  1 1 1 1 1 1 1 1 0 1 0 0 1 0 0 1 1 1 1 0 1 0 1 1 0 0 1 1 1 1 1 1 1 1 0 1 1 1 0 0 1 1 1 1 1 1 1 0 1 1 1 0 0 1 1 0 1 1 0 1 1 1 1 1 1 0 1 1 1 1 1 1 0 1 1 0 1 1 0 0 0 1 1 1 1 1 1 1 1 1 1 1 1 1 1 0 1 0 1 1 \n",
      "\n",
      "Поколение 8: Макс приспособ. = 77, Средняя приспособ.= 70.94\n",
      "Лучший индивидуум =  1 1 1 1 0 1 1 1 1 1 1 1 1 0 1 1 1 0 0 1 1 1 0 1 0 1 1 1 1 1 1 1 1 1 0 1 1 1 0 0 1 1 1 1 1 1 1 1 1 1 1 0 1 1 1 1 1 0 0 1 0 1 1 1 1 1 1 0 0 0 1 0 1 1 1 1 1 1 1 0 0 0 0 1 1 1 1 1 1 1 1 1 1 1 1 0 1 0 1 1 \n",
      "\n",
      "Поколение 9: Макс приспособ. = 79, Средняя приспособ.= 72.905\n",
      "Лучший индивидуум =  0 1 1 1 1 1 1 1 0 1 0 1 1 1 0 1 1 0 1 1 1 0 1 1 1 1 1 0 1 1 1 1 0 1 1 1 1 1 1 1 1 1 1 1 1 1 1 0 1 1 1 0 0 1 1 0 1 1 0 1 1 1 1 1 1 0 1 1 1 1 1 1 0 1 1 0 1 1 0 0 0 1 1 1 1 1 1 1 1 1 1 1 1 1 1 0 1 0 1 1 \n",
      "\n",
      "Поколение 10: Макс приспособ. = 81, Средняя приспособ.= 74.91\n",
      "Лучший индивидуум =  0 1 1 1 1 1 1 1 0 1 0 1 0 0 1 1 1 1 1 0 1 1 1 0 0 1 1 1 1 1 1 1 1 1 1 1 1 1 1 1 1 1 1 1 1 1 1 0 1 1 1 0 1 1 1 1 1 1 0 1 1 1 1 1 1 0 1 1 1 1 0 1 0 1 1 1 1 1 1 0 0 1 1 1 1 1 0 1 0 1 1 1 1 1 1 1 1 0 1 1 \n",
      "\n",
      "Поколение 11: Макс приспособ. = 83, Средняя приспособ.= 76.71\n",
      "Лучший индивидуум =  1 0 1 1 1 0 1 1 1 1 1 1 1 0 1 1 1 1 1 0 1 1 1 0 0 1 1 1 1 1 1 1 1 1 1 1 1 1 1 1 1 1 1 1 1 1 1 0 1 1 1 0 1 1 1 1 1 1 0 1 1 1 1 1 1 0 1 1 1 1 0 1 0 1 1 1 1 1 1 0 0 1 1 1 1 1 0 1 0 1 1 1 1 1 1 1 1 0 1 1 \n",
      "\n",
      "Поколение 12: Макс приспособ. = 85, Средняя приспособ.= 78.505\n",
      "Лучший индивидуум =  0 1 1 1 1 1 1 1 0 1 1 1 1 1 1 1 1 1 1 1 1 1 0 1 0 1 1 1 1 1 1 1 0 1 1 1 1 1 1 1 1 1 1 1 1 1 1 1 1 1 1 1 1 1 1 1 1 0 1 1 1 0 1 1 1 1 1 1 0 1 1 1 1 1 0 0 0 0 1 0 0 1 1 1 1 1 1 1 1 1 1 1 1 1 1 0 1 1 1 1 \n",
      "\n",
      "Поколение 13: Макс приспособ. = 87, Средняя приспособ.= 79.885\n",
      "Лучший индивидуум =  1 1 1 1 1 1 1 1 0 1 1 1 1 1 1 1 1 1 1 1 1 1 1 0 0 1 1 1 1 1 1 1 1 1 1 1 1 1 1 1 1 1 1 1 1 1 1 1 1 1 1 0 1 1 1 1 1 0 0 1 1 1 1 1 1 0 1 1 1 1 0 1 0 1 1 1 1 1 1 0 0 1 1 1 1 1 1 1 1 1 1 1 1 1 1 0 1 0 1 1 \n",
      "\n",
      "Поколение 14: Макс приспособ. = 88, Средняя приспособ.= 81.325\n",
      "Лучший индивидуум =  1 1 1 1 1 1 1 1 0 1 1 1 1 1 1 1 1 1 1 1 1 1 1 0 0 1 1 1 1 1 1 1 1 1 1 1 1 1 1 1 1 1 1 1 1 1 1 1 1 1 1 0 1 1 1 1 1 0 0 1 1 1 1 1 1 0 1 1 1 1 0 1 0 1 1 1 1 1 1 0 0 1 1 1 1 1 1 1 1 1 1 1 1 1 1 1 1 0 1 1 \n",
      "\n",
      "Поколение 15: Макс приспособ. = 88, Средняя приспособ.= 82.995\n",
      "Лучший индивидуум =  1 1 1 1 1 1 1 1 1 1 1 1 1 0 1 1 1 1 1 0 1 1 1 1 0 1 1 1 1 1 1 1 1 1 1 1 1 1 1 1 1 1 1 1 1 1 1 1 1 1 1 0 1 1 1 1 1 0 0 1 1 1 1 1 1 0 1 1 1 1 0 1 0 1 1 1 1 1 1 0 0 1 1 1 1 1 1 1 1 1 1 1 1 1 1 1 1 0 1 1 \n",
      "\n",
      "Поколение 16: Макс приспособ. = 89, Средняя приспособ.= 84.685\n",
      "Лучший индивидуум =  1 1 1 1 1 1 1 1 1 1 1 1 1 0 1 1 1 1 1 0 1 1 1 1 0 1 1 1 1 1 1 1 1 1 1 1 1 1 1 1 1 1 1 1 1 1 1 1 1 1 1 1 1 1 1 1 1 0 1 1 0 1 1 1 1 1 1 1 1 1 1 1 0 1 1 0 1 1 0 0 0 1 1 1 1 1 1 1 1 1 1 1 1 1 1 0 1 1 1 1 \n",
      "\n",
      "Поколение 17: Макс приспособ. = 89, Средняя приспособ.= 86.425\n",
      "Лучший индивидуум =  1 1 1 1 1 1 1 1 1 1 1 1 1 1 1 1 1 1 1 1 1 1 1 0 0 1 1 1 1 1 1 1 1 1 1 1 1 1 1 1 1 1 1 1 1 1 1 1 1 1 1 0 1 1 1 1 1 0 0 1 1 1 1 1 1 0 1 1 1 1 1 1 0 1 1 1 1 1 1 0 0 1 1 1 1 1 1 1 1 1 1 1 1 1 1 0 1 0 1 1 \n",
      "\n",
      "Поколение 18: Макс приспособ. = 91, Средняя приспособ.= 87.48\n",
      "Лучший индивидуум =  1 1 1 1 1 1 1 1 0 1 1 1 1 1 1 1 1 1 1 1 1 1 0 1 0 1 1 1 1 1 1 1 1 1 1 1 1 1 1 1 1 1 1 1 1 1 1 1 1 1 1 1 1 1 1 1 1 0 1 1 1 1 1 1 1 0 1 1 1 1 0 1 0 1 1 1 1 1 1 0 0 1 1 1 1 1 1 1 1 1 1 1 1 1 1 1 1 1 1 1 \n",
      "\n",
      "Поколение 19: Макс приспособ. = 91, Средняя приспособ.= 88.29\n",
      "Лучший индивидуум =  1 1 1 1 1 1 1 1 1 1 1 1 1 0 1 1 1 1 1 0 1 1 1 1 0 1 1 1 1 1 1 1 1 1 1 1 1 1 1 1 1 1 1 1 1 1 1 1 1 1 1 1 1 1 1 1 1 0 0 1 1 1 1 1 1 0 1 1 1 1 1 1 0 1 1 1 1 1 1 0 0 1 1 1 1 1 1 1 1 1 1 1 1 1 1 1 1 1 1 1 \n",
      "\n",
      "Поколение 20: Макс приспособ. = 92, Средняя приспособ.= 89.12\n",
      "Лучший индивидуум =  1 1 1 1 1 1 1 1 1 1 1 1 1 1 1 1 1 1 1 1 1 1 0 1 0 1 1 1 1 1 1 1 1 1 1 1 1 1 1 1 1 1 1 1 1 1 1 1 1 1 1 1 1 1 1 1 1 0 1 1 1 1 1 1 1 0 1 1 1 1 0 1 0 1 1 1 1 1 1 0 0 1 1 1 1 1 1 1 1 1 1 1 1 1 1 1 1 1 1 1 \n",
      "\n",
      "Поколение 21: Макс приспособ. = 92, Средняя приспособ.= 89.865\n",
      "Лучший индивидуум =  1 1 1 1 1 1 1 1 1 1 1 1 1 1 1 1 1 1 1 1 1 1 0 1 0 1 1 1 1 1 1 1 1 1 1 1 1 1 1 1 1 1 1 1 1 1 1 1 1 1 1 1 1 1 1 1 1 0 1 1 1 1 1 1 1 0 1 1 1 1 0 1 0 1 1 1 1 1 1 0 0 1 1 1 1 1 1 1 1 1 1 1 1 1 1 1 1 1 1 1 \n",
      "\n",
      "Поколение 22: Макс приспособ. = 93, Средняя приспособ.= 90.605\n",
      "Лучший индивидуум =  1 1 1 1 1 1 1 1 1 1 1 1 1 1 1 1 1 1 1 1 1 1 1 1 0 1 1 1 1 1 1 1 1 1 1 1 1 1 1 1 1 1 1 1 1 1 1 1 1 1 1 1 1 1 1 1 1 0 1 1 1 1 1 1 1 0 1 1 1 1 1 1 0 1 1 1 1 1 1 0 0 1 1 1 1 1 1 1 1 1 1 1 1 1 1 1 1 0 1 1 \n",
      "\n",
      "Поколение 23: Макс приспособ. = 94, Средняя приспособ.= 91.405\n",
      "Лучший индивидуум =  1 1 1 1 1 1 1 1 1 1 1 1 1 1 1 1 1 1 1 1 1 1 1 1 0 1 1 1 1 1 1 1 1 1 1 1 1 1 1 1 1 1 1 1 1 1 1 1 1 1 1 1 1 1 1 1 1 0 1 1 0 1 1 1 1 1 1 1 1 1 1 1 0 1 0 1 1 1 0 1 1 1 1 1 1 1 1 1 1 1 1 1 1 1 1 1 1 1 1 1 \n",
      "\n",
      "Поколение 24: Макс приспособ. = 95, Средняя приспособ.= 92.065\n",
      "Лучший индивидуум =  1 1 1 1 1 1 1 1 1 1 1 1 1 1 1 1 1 1 1 1 1 1 1 1 0 1 1 1 1 1 1 1 1 1 1 1 1 1 1 1 1 1 1 1 1 1 1 1 1 1 1 1 1 1 1 1 1 0 1 1 1 1 1 1 1 1 1 1 1 1 1 1 0 1 0 1 1 1 0 1 1 1 1 1 1 1 1 1 1 1 1 1 1 1 1 1 1 1 1 1 \n",
      "\n",
      "Поколение 25: Макс приспособ. = 95, Средняя приспособ.= 92.715\n",
      "Лучший индивидуум =  1 1 1 1 1 1 1 1 1 1 1 1 1 1 1 1 1 1 1 1 1 1 1 1 0 1 1 1 1 1 1 1 1 1 1 1 1 1 1 1 1 1 1 1 1 1 1 1 1 1 1 1 1 1 1 1 1 0 1 1 1 1 1 1 1 1 1 1 1 1 1 1 0 1 0 1 1 1 0 1 1 1 1 1 1 1 1 1 1 1 1 1 1 1 1 1 1 1 1 1 \n",
      "\n",
      "Поколение 26: Макс приспособ. = 95, Средняя приспособ.= 93.33\n",
      "Лучший индивидуум =  1 1 1 1 1 1 1 1 1 1 1 1 1 1 1 1 1 1 1 1 1 1 1 1 0 1 1 1 1 1 1 1 1 1 1 1 1 1 1 1 1 1 1 1 1 1 1 1 1 1 1 1 1 1 1 1 1 0 1 1 1 1 1 1 1 1 1 1 1 1 1 1 0 1 0 1 1 1 0 1 1 1 1 1 1 1 1 1 1 1 1 1 1 1 1 1 1 1 1 1 \n",
      "\n",
      "Поколение 27: Макс приспособ. = 96, Средняя приспособ.= 93.85\n",
      "Лучший индивидуум =  1 1 1 1 1 1 1 1 1 1 1 1 1 1 1 1 1 1 1 1 1 1 1 1 0 1 1 1 1 1 1 1 1 1 1 1 1 1 1 1 1 1 1 1 1 1 1 1 1 1 1 1 1 1 1 1 1 0 1 1 1 1 1 1 1 1 1 1 1 1 1 1 1 1 1 1 1 1 1 0 0 1 1 1 1 1 1 1 1 1 1 1 1 1 1 1 1 1 1 1 \n",
      "\n",
      "Поколение 28: Макс приспособ. = 98, Средняя приспособ.= 94.485\n",
      "Лучший индивидуум =  1 1 1 1 1 1 1 1 1 1 1 1 1 1 1 1 1 1 1 1 1 1 1 1 0 1 1 1 1 1 1 1 1 1 1 1 1 1 1 1 1 1 1 1 1 1 1 1 1 1 1 1 1 1 1 1 1 0 1 1 1 1 1 1 1 1 1 1 1 1 1 1 1 1 1 1 1 1 1 1 1 1 1 1 1 1 1 1 1 1 1 1 1 1 1 1 1 1 1 1 \n",
      "\n",
      "Поколение 29: Макс приспособ. = 98, Средняя приспособ.= 95.0\n",
      "Лучший индивидуум =  1 1 1 1 1 1 1 1 1 1 1 1 1 1 1 1 1 1 1 1 1 1 1 1 0 1 1 1 1 1 1 1 1 1 1 1 1 1 1 1 1 1 1 1 1 1 1 1 1 1 1 1 1 1 1 1 1 0 1 1 1 1 1 1 1 1 1 1 1 1 1 1 1 1 1 1 1 1 1 1 1 1 1 1 1 1 1 1 1 1 1 1 1 1 1 1 1 1 1 1 \n",
      "\n",
      "Поколение 30: Макс приспособ. = 98, Средняя приспособ.= 95.61\n",
      "Лучший индивидуум =  1 1 1 1 1 1 1 1 1 1 1 1 1 1 1 1 1 1 1 1 1 1 1 1 0 1 1 1 1 1 1 1 1 1 1 1 1 1 1 1 1 1 1 1 1 1 1 1 1 1 1 1 1 1 1 1 1 0 1 1 1 1 1 1 1 1 1 1 1 1 1 1 1 1 1 1 1 1 1 1 1 1 1 1 1 1 1 1 1 1 1 1 1 1 1 1 1 1 1 1 \n",
      "\n",
      "Поколение 31: Макс приспособ. = 98, Средняя приспособ.= 96.355\n",
      "Лучший индивидуум =  1 1 1 1 1 1 1 1 1 1 1 1 1 1 1 1 1 1 1 1 1 1 1 1 0 1 1 1 1 1 1 1 1 1 1 1 1 1 1 1 1 1 1 1 1 1 1 1 1 1 1 1 1 1 1 1 1 0 1 1 1 1 1 1 1 1 1 1 1 1 1 1 1 1 1 1 1 1 1 1 1 1 1 1 1 1 1 1 1 1 1 1 1 1 1 1 1 1 1 1 \n",
      "\n",
      "Поколение 32: Макс приспособ. = 99, Средняя приспособ.= 97.035\n",
      "Лучший индивидуум =  1 1 1 1 1 1 1 1 1 1 1 1 1 1 1 1 1 1 1 1 1 1 1 0 1 1 1 1 1 1 1 1 1 1 1 1 1 1 1 1 1 1 1 1 1 1 1 1 1 1 1 1 1 1 1 1 1 1 1 1 1 1 1 1 1 1 1 1 1 1 1 1 1 1 1 1 1 1 1 1 1 1 1 1 1 1 1 1 1 1 1 1 1 1 1 1 1 1 1 1 \n",
      "\n",
      "Поколение 33: Макс приспособ. = 100, Средняя приспособ.= 97.59\n",
      "Лучший индивидуум =  1 1 1 1 1 1 1 1 1 1 1 1 1 1 1 1 1 1 1 1 1 1 1 1 1 1 1 1 1 1 1 1 1 1 1 1 1 1 1 1 1 1 1 1 1 1 1 1 1 1 1 1 1 1 1 1 1 1 1 1 1 1 1 1 1 1 1 1 1 1 1 1 1 1 1 1 1 1 1 1 1 1 1 1 1 1 1 1 1 1 1 1 1 1 1 1 1 1 1 1 \n",
      "\n"
     ]
    }
   ],
   "source": [
    "while max(fitnessValues) < ONE_MAX_LENGTH and generationCounter < MAX_GENERATIONS:\n",
    "    generationCounter += 1\n",
    "    offspring = selTournament(population, len(population))\n",
    "    offspring = list(map(clone, offspring))\n",
    " \n",
    "    for child1, child2 in zip(offspring[::2], offspring[1::2]):\n",
    "        if random.random() < P_CROSSOVER:\n",
    "            cxOnePoint(child1, child2)\n",
    " \n",
    "    for mutant in offspring:\n",
    "        if random.random() < P_MUTATION:\n",
    "            mutFlipBit(mutant, indpb=1.0/ONE_MAX_LENGTH)\n",
    " \n",
    "    freshFitnessValues = list(map(oneMaxFitness, offspring))\n",
    "    for individual, fitnessValue in zip(offspring, freshFitnessValues):\n",
    "        individual.fitness.values = fitnessValue\n",
    " \n",
    "    population[:] = offspring\n",
    " \n",
    "    fitnessValues = [ind.fitness.values[0] for ind in population]\n",
    " \n",
    "    maxFitness = max(fitnessValues)\n",
    "    meanFitness = sum(fitnessValues) / len(population)\n",
    "    maxFitnessValues.append(maxFitness)\n",
    "    meanFitnessValues.append(meanFitness)\n",
    "    print(f\"Поколение {generationCounter}: Макс приспособ. = {maxFitness}, Средняя приспособ.= {meanFitness}\")\n",
    " \n",
    "    best_index = fitnessValues.index(max(fitnessValues))\n",
    "    print(\"Лучший индивидуум = \", *population[best_index], \"\\n\")"
   ]
  },
  {
   "cell_type": "code",
   "execution_count": 9,
   "metadata": {},
   "outputs": [
    {
     "data": {
      "image/png": "[encoded data removed]",
      "text/plain": [
       "<Figure size 432x288 with 1 Axes>"
      ]
     },
     "metadata": {
      "needs_background": "light"
     },
     "output_type": "display_data"
    }
   ],
   "source": [
    "plt.plot(maxFitnessValues, color='red')\n",
    "plt.plot(meanFitnessValues, color='green')\n",
    "plt.xlabel('Поколение')\n",
    "plt.ylabel('Макс/средняя приспособленность')\n",
    "plt.title('Зависимость максимальной и средней приспособленности от поколения')\n",
    "plt.show()"
   ]
  },
  {
   "cell_type": "code",
   "execution_count": null,
   "metadata": {},
   "outputs": [],
   "source": []
  }
 ],
 "metadata": {
  "interpreter": {
   "hash": "1c43b035c4b9b3af2b8bcc3fd0eef2e1dae6ba45ebd4d37928a5d33d50c1e332"
  },
  "kernelspec": {
   "display_name": "Python 3.8.10 ('rl')",
   "language": "python",
   "name": "python3"
  },
  "language_info": {
   "codemirror_mode": {
    "name": "ipython",
    "version": 3
   },
   "file_extension": ".py",
   "mimetype": "text/x-python",
   "name": "python",
   "nbconvert_exporter": "python",
   "pygments_lexer": "ipython3",
   "version": "3.8.10"
  },
  "orig_nbformat": 4
 },
 "nbformat": 4,
 "nbformat_minor": 2
}
