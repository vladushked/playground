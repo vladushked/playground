{
  "cells": [
    {
      "cell_type": "markdown",
      "metadata": {
        "id": "7g986qOlBKAo"
      },
      "source": [
        "### Импорт библиотек"
      ]
    },
    {
      "cell_type": "code",
      "execution_count": 1,
      "metadata": {
        "id": "9lB01xLwRnXZ"
      },
      "outputs": [],
      "source": [
        "import torch\n",
        "import torch.nn as nn\n",
        "import torch.nn.functional as F\n",
        "from torch.utils.data import Dataset, DataLoader\n",
        "from tqdm import tqdm  # For nice progress bar!\n",
        "from sklearn.model_selection import train_test_split\n",
        "from sklearn.metrics import accuracy_score\n",
        "import numpy as np\n",
        "import math\n",
        "import os\n",
        "from scipy.integrate import *\n",
        "import pandas as pd\n",
        "import csv\n",
        "import matplotlib.pyplot as plt"
      ]
    },
    {
      "cell_type": "markdown",
      "metadata": {
        "id": "N7bJLAsFnqsA"
      },
      "source": [
        "###  Описание объекта в виде системы ОДУ\n",
        "\n",
        "\n",
        "---\n",
        "\n",
        "\n",
        "\n",
        "$\\left\\{\\begin{array}{l}\n",
        "\\dot{x}_1= u_1\\sin{(x_2+u_2)} \\\\\n",
        "\\dot{x}_2= x_1\\cos{(x_1u_2)} \\\\\n",
        "\\end{array}\\right.$\n",
        "\n",
        "$ $\n",
        "\n",
        "---\n",
        "\n",
        "$ $\n",
        "\n",
        "Начальное состояние системы:  $\\mathbf{x}^0 = \\left[0\\;0\\right]^\\mathrm{T}$,\n",
        "\n",
        "Ограничение на управление:  $u_i \\in \\left[-1;1\\right], i={1,2}$.\n",
        "\n",
        "$t_0 = 0$ , $t_{max}=5$, $\\Delta t=0.01$.\n",
        "\n"
      ]
    },
    {
      "cell_type": "markdown",
      "metadata": {
        "id": "LLapIljhYeob"
      },
      "source": [
        "### Константы"
      ]
    },
    {
      "cell_type": "code",
      "execution_count": 50,
      "metadata": {
        "id": "_3Bu870fYm0q"
      },
      "outputs": [],
      "source": [
        "dt = 0.01 # дельта t\n",
        "tmax = 5 # время интегрирования\n",
        "du = 0.1 # шаг изменения управления\n",
        "umin = [-1, -1] # ограничение на управление снизу\n",
        "umax = [1, 1] # ограничение на управление сверху\n",
        "dx = 0.5 # шаг изменения значения начального угла положения робота\n",
        "state_dim = 2 # размерность вектора состояния\n",
        "control_dim = 2 # размерность вектора управления\n",
        "\n",
        "dataset_csv_name = 'dataset.csv'\n",
        "weights_fname = \"weights.pth\""
      ]
    },
    {
      "cell_type": "code",
      "execution_count": 51,
      "metadata": {
        "id": "dxEisRZdXm8z"
      },
      "outputs": [],
      "source": [
        "def dynamic_object_model(x, u):\n",
        "    return [u[0] * np.sin(x[1] + u[1]),\n",
        "            x[0] * np.cos(x[0] * u[1])]"
      ]
    },
    {
      "cell_type": "code",
      "execution_count": 52,
      "metadata": {
        "id": "LHL4tbEXW2Gx"
      },
      "outputs": [],
      "source": [
        "def Euler2(x0, u, dt, state_dim):\n",
        "    res = []\n",
        "    dt1 = []\n",
        "    dt2 = []\n",
        "    for i in range(0, state_dim):\n",
        "        dt1.append(dt)\n",
        "        dt2.append(dt/2)\n",
        "\n",
        "    stepres = []\n",
        "    stepres.append(np.array(x0))\n",
        "    tempdotX = dynamic_object_model(x0, u)\n",
        "    tempX = x0 + np.multiply(tempdotX, dt2)\n",
        "    dotX = dynamic_object_model(tempX, u)\n",
        "    x0 = x0 + np.multiply(dotX, dt1)\n",
        "    stepres.append(np.array(dotX))\n",
        "    res.append(stepres)\n",
        "\n",
        "    return res\n"
      ]
    },
    {
      "cell_type": "markdown",
      "metadata": {
        "id": "elMksMvy-wDU"
      },
      "source": [
        "# Создание обучающей выборки"
      ]
    },
    {
      "cell_type": "code",
      "execution_count": 54,
      "metadata": {
        "colab": {
          "base_uri": "https://localhost:8080/"
        },
        "id": "Ig0EoTl0bRwo",
        "outputId": "da746c4a-3bd0-4edb-f168-380a96820be9"
      },
      "outputs": [
        {
          "name": "stdout",
          "output_type": "stream",
          "text": [
            "Количество точек x[0] - 26\n",
            "Количество точек x[1] - 26\n",
            "Количество точек u[0] - 21\n",
            "Количество точек u[1] - 21\n"
          ]
        },
        {
          "data": {
            "text/html": [
              "<div>\n",
              "<style scoped>\n",
              "    .dataframe tbody tr th:only-of-type {\n",
              "        vertical-align: middle;\n",
              "    }\n",
              "\n",
              "    .dataframe tbody tr th {\n",
              "        vertical-align: top;\n",
              "    }\n",
              "\n",
              "    .dataframe thead th {\n",
              "        text-align: right;\n",
              "    }\n",
              "</style>\n",
              "<table border=\"1\" class=\"dataframe\">\n",
              "  <thead>\n",
              "    <tr style=\"text-align: right;\">\n",
              "      <th></th>\n",
              "      <th>x1</th>\n",
              "      <th>x2</th>\n",
              "      <th>u1</th>\n",
              "      <th>u2</th>\n",
              "      <th>dotx1</th>\n",
              "      <th>dotx2</th>\n",
              "    </tr>\n",
              "  </thead>\n",
              "  <tbody>\n",
              "    <tr>\n",
              "      <th>0</th>\n",
              "      <td>-6.283185</td>\n",
              "      <td>-6.283185</td>\n",
              "      <td>-1.0</td>\n",
              "      <td>-1.0</td>\n",
              "      <td>0.858027</td>\n",
              "      <td>-6.278922</td>\n",
              "    </tr>\n",
              "    <tr>\n",
              "      <th>1</th>\n",
              "      <td>-6.283185</td>\n",
              "      <td>-6.283185</td>\n",
              "      <td>-1.0</td>\n",
              "      <td>-0.9</td>\n",
              "      <td>0.798871</td>\n",
              "      <td>-5.066993</td>\n",
              "    </tr>\n",
              "    <tr>\n",
              "      <th>2</th>\n",
              "      <td>-6.283185</td>\n",
              "      <td>-6.283185</td>\n",
              "      <td>-1.0</td>\n",
              "      <td>-0.8</td>\n",
              "      <td>0.724086</td>\n",
              "      <td>-1.923358</td>\n",
              "    </tr>\n",
              "    <tr>\n",
              "      <th>3</th>\n",
              "      <td>-6.283185</td>\n",
              "      <td>-6.283185</td>\n",
              "      <td>-1.0</td>\n",
              "      <td>-0.7</td>\n",
              "      <td>0.636762</td>\n",
              "      <td>1.954078</td>\n",
              "    </tr>\n",
              "    <tr>\n",
              "      <th>4</th>\n",
              "      <td>-6.283185</td>\n",
              "      <td>-6.283185</td>\n",
              "      <td>-1.0</td>\n",
              "      <td>-0.6</td>\n",
              "      <td>0.543486</td>\n",
              "      <td>5.087166</td>\n",
              "    </tr>\n",
              "    <tr>\n",
              "      <th>...</th>\n",
              "      <td>...</td>\n",
              "      <td>...</td>\n",
              "      <td>...</td>\n",
              "      <td>...</td>\n",
              "      <td>...</td>\n",
              "      <td>...</td>\n",
              "    </tr>\n",
              "    <tr>\n",
              "      <th>298111</th>\n",
              "      <td>6.216815</td>\n",
              "      <td>6.216815</td>\n",
              "      <td>1.0</td>\n",
              "      <td>0.6</td>\n",
              "      <td>0.486234</td>\n",
              "      <td>-5.167841</td>\n",
              "    </tr>\n",
              "    <tr>\n",
              "      <th>298112</th>\n",
              "      <td>6.216815</td>\n",
              "      <td>6.216815</td>\n",
              "      <td>1.0</td>\n",
              "      <td>0.7</td>\n",
              "      <td>0.583199</td>\n",
              "      <td>-2.182603</td>\n",
              "    </tr>\n",
              "    <tr>\n",
              "      <th>298113</th>\n",
              "      <td>6.216815</td>\n",
              "      <td>6.216815</td>\n",
              "      <td>1.0</td>\n",
              "      <td>0.8</td>\n",
              "      <td>0.675507</td>\n",
              "      <td>1.621559</td>\n",
              "    </tr>\n",
              "    <tr>\n",
              "      <th>298114</th>\n",
              "      <td>6.216815</td>\n",
              "      <td>6.216815</td>\n",
              "      <td>1.0</td>\n",
              "      <td>0.9</td>\n",
              "      <td>0.756302</td>\n",
              "      <td>4.818387</td>\n",
              "    </tr>\n",
              "    <tr>\n",
              "      <th>298115</th>\n",
              "      <td>6.216815</td>\n",
              "      <td>6.216815</td>\n",
              "      <td>1.0</td>\n",
              "      <td>1.0</td>\n",
              "      <td>0.821847</td>\n",
              "      <td>6.208745</td>\n",
              "    </tr>\n",
              "  </tbody>\n",
              "</table>\n",
              "<p>298116 rows × 6 columns</p>\n",
              "</div>"
            ],
            "text/plain": [
              "              x1        x2   u1   u2     dotx1     dotx2\n",
              "0      -6.283185 -6.283185 -1.0 -1.0  0.858027 -6.278922\n",
              "1      -6.283185 -6.283185 -1.0 -0.9  0.798871 -5.066993\n",
              "2      -6.283185 -6.283185 -1.0 -0.8  0.724086 -1.923358\n",
              "3      -6.283185 -6.283185 -1.0 -0.7  0.636762  1.954078\n",
              "4      -6.283185 -6.283185 -1.0 -0.6  0.543486  5.087166\n",
              "...          ...       ...  ...  ...       ...       ...\n",
              "298111  6.216815  6.216815  1.0  0.6  0.486234 -5.167841\n",
              "298112  6.216815  6.216815  1.0  0.7  0.583199 -2.182603\n",
              "298113  6.216815  6.216815  1.0  0.8  0.675507  1.621559\n",
              "298114  6.216815  6.216815  1.0  0.9  0.756302  4.818387\n",
              "298115  6.216815  6.216815  1.0  1.0  0.821847  6.208745\n",
              "\n",
              "[298116 rows x 6 columns]"
            ]
          },
          "execution_count": 54,
          "metadata": {},
          "output_type": "execute_result"
        }
      ],
      "source": [
        "# Интервалы наблюдения\n",
        "t = np.arange(0, tmax, dt)\n",
        "\n",
        "# подготовка обучающей выборки\n",
        "column_names = ['x1','x2','u1','u2','dotx1','dotx2']\n",
        "train_set = []\n",
        "\n",
        "all_x01 = np.arange(-2*math.pi, 2*math.pi, dx)\n",
        "all_x02 = np.arange(-2*math.pi, 2*math.pi, dx)\n",
        "all_u1 = np.arange(umin[0], umax[0]+du, du)\n",
        "all_u2 = np.arange(umin[1], umax[1]+du, du)\n",
        "\n",
        "###\n",
        "print('Количество точек x[0] - %d' % (len(all_x01)))\n",
        "print('Количество точек x[1] - %d' % (len(all_x02)))\n",
        "print('Количество точек u[0] - %d' % (len(all_u1)))\n",
        "print('Количество точек u[1] - %d' % (len(all_u2)))\n",
        "###\n",
        "\n",
        "# цикл по разным начальным значениям угла поворота робота\n",
        "for x01 in all_x01:\n",
        "    for x02 in all_x02:\n",
        "        # Начальное состояние системы\n",
        "        x0 = [x01, x02]\n",
        "        # цикл по разным значениям управления\n",
        "        for u1 in all_u1:\n",
        "            for u2 in all_u2:\n",
        "                u = [u1, u2]\n",
        "\n",
        "                ts = Euler2(x0, u, dt, state_dim)\n",
        "\n",
        "                for row in ts:\n",
        "                    train_row = []\n",
        "                    for item in row[0]:\n",
        "                        train_row.append(item)\n",
        "\n",
        "                for item in u:\n",
        "                    train_row.append(item)\n",
        "\n",
        "                for item in row[1]:\n",
        "                    train_row.append(item)\n",
        "\n",
        "                train_set.append(train_row)\n",
        "\n",
        "\n",
        "dataframe = pd.DataFrame(train_set, columns=column_names)\n",
        "dataframe\n"
      ]
    },
    {
      "cell_type": "code",
      "execution_count": 55,
      "metadata": {},
      "outputs": [],
      "source": [
        "train, test = train_test_split(dataframe, test_size=0.1)"
      ]
    },
    {
      "cell_type": "code",
      "execution_count": 56,
      "metadata": {
        "colab": {
          "base_uri": "https://localhost:8080/",
          "height": 441
        },
        "id": "c9JasL18H4Ls",
        "outputId": "942e7548-3172-442c-ca4e-6ed63ac341e7"
      },
      "outputs": [
        {
          "name": "stdout",
          "output_type": "stream",
          "text": [
            "Число входов: 4, число выходов: 2\n"
          ]
        }
      ],
      "source": [
        "TS_x = dataframe.loc[:, ['x1', 'x2', 'u1', 'u2']]\n",
        "TS_y = dataframe.loc[:, ['dotx1', 'dotx2']]\n",
        "\n",
        "# число входов\n",
        "arg_num = TS_x.shape[1]\n",
        "\n",
        "# число выходов\n",
        "f_num = TS_y.shape[1]\n",
        "\n",
        "print('Число входов: %d, число выходов: %d' % (arg_num, f_num))\n"
      ]
    },
    {
      "cell_type": "markdown",
      "metadata": {
        "id": "Xho_6tfWUYEf"
      },
      "source": [
        "# Модель нейронной сети #\n"
      ]
    },
    {
      "cell_type": "code",
      "execution_count": 107,
      "metadata": {
        "id": "2eMG_-bP_D-_"
      },
      "outputs": [
        {
          "name": "stdout",
          "output_type": "stream",
          "text": [
            "cuda\n"
          ]
        }
      ],
      "source": [
        "# Параметры\n",
        "NUM_EPOCHS = 500 # Количество эпох\n",
        "LEARNING_RATE=1e-3 # Скорость обучение (Используется в методах оптимизации на основе градиентного спуска)\n",
        "HIDDEN_LAYERS = 100\n",
        "# Set device cuda for GPU if it's available otherwise run on the CPU\n",
        "device = torch.device(\"cuda\" if torch.cuda.is_available() else \"cpu\")\n",
        "print(device)"
      ]
    },
    {
      "cell_type": "code",
      "execution_count": 108,
      "metadata": {},
      "outputs": [],
      "source": [
        "class NNModel(nn.Module):\n",
        "    def __init__(self, input_dim, output_dim):\n",
        "        super(NNModel, self).__init__()\n",
        "        self.fc1 = nn.Linear(input_dim, HIDDEN_LAYERS)\n",
        "        self.fc2 = nn.Linear(HIDDEN_LAYERS, HIDDEN_LAYERS)\n",
        "        self.fc3 = nn.Linear(HIDDEN_LAYERS, output_dim)\n",
        "\n",
        "    def forward(self, x):\n",
        "        x = self.fc1(x)\n",
        "        x = torch.sigmoid(x)\n",
        "        x = self.fc2(x)\n",
        "        x = torch.sigmoid(x)\n",
        "        x = self.fc3(x)\n",
        "        return x\n"
      ]
    },
    {
      "cell_type": "code",
      "execution_count": 109,
      "metadata": {},
      "outputs": [],
      "source": [
        "class NNDataset(Dataset):\n",
        "  def __init__(self, dataframe, device):\n",
        "\n",
        "    TS_x = dataframe.loc[:, ['x1', 'x2', 'u1', 'u2']].values\n",
        "    TS_y = dataframe.loc[:,['dotx1','dotx2']].values\n",
        " \n",
        "    self.x_train=torch.tensor(TS_x,dtype=torch.float32).to(device)\n",
        "    self.y_train=torch.tensor(TS_y,dtype=torch.float32).to(device)\n",
        " \n",
        "  def __len__(self):\n",
        "    return len(self.y_train)\n",
        "   \n",
        "  def __getitem__(self,idx):\n",
        "    return self.x_train[idx],self.y_train[idx]"
      ]
    },
    {
      "cell_type": "code",
      "execution_count": 110,
      "metadata": {},
      "outputs": [],
      "source": [
        "train_dataset = NNDataset(train, device)\n",
        "test_dataset = NNDataset(test, device)\n",
        "train_loader=DataLoader(train_dataset,batch_size=1000,shuffle=True)\n",
        "test_loader=DataLoader(test_dataset,batch_size=1,shuffle=False)"
      ]
    },
    {
      "cell_type": "code",
      "execution_count": 111,
      "metadata": {},
      "outputs": [
        {
          "data": {
            "text/plain": [
              "NNModel(\n",
              "  (fc1): Linear(in_features=4, out_features=100, bias=True)\n",
              "  (fc2): Linear(in_features=100, out_features=100, bias=True)\n",
              "  (fc3): Linear(in_features=100, out_features=2, bias=True)\n",
              ")"
            ]
          },
          "execution_count": 111,
          "metadata": {},
          "output_type": "execute_result"
        }
      ],
      "source": [
        "# Initialize network\n",
        "model = NNModel(input_dim=arg_num, output_dim=f_num).to(device)\n",
        "model"
      ]
    },
    {
      "cell_type": "code",
      "execution_count": 112,
      "metadata": {},
      "outputs": [],
      "source": [
        "# Loss and optimizer\n",
        "optimizer = torch.optim.Adam(model.parameters(), lr=LEARNING_RATE)\n",
        "criterion = nn.MSELoss()"
      ]
    },
    {
      "cell_type": "code",
      "execution_count": 113,
      "metadata": {},
      "outputs": [],
      "source": [
        "# Check accuracy on training & test to see how good our model\n",
        "def check_accuracy(loader, model):\n",
        "    model.eval()\n",
        "\n",
        "    with torch.no_grad():\n",
        "        dist = 0\n",
        "        for x, y in loader:\n",
        "            scores = model(x)\n",
        "            dist = dist + (scores.cpu().detach().numpy() - y.cpu().detach().numpy())**2\n",
        "    model.train()\n",
        "    dist = (dist / len(loader)) **0.5\n",
        "\n",
        "    return dist.mean()"
      ]
    },
    {
      "cell_type": "code",
      "execution_count": 114,
      "metadata": {},
      "outputs": [
        {
          "name": "stdout",
          "output_type": "stream",
          "text": [
            "tensor([[ 3.7168,  2.2168, -0.3000,  0.8000]], device='cuda:0')\n",
            "tensor([[-0.0428, -3.6641]], device='cuda:0')\n"
          ]
        }
      ],
      "source": [
        "for x, y in test_loader:\n",
        "    print(x)\n",
        "    print(y)\n",
        "    break"
      ]
    },
    {
      "cell_type": "code",
      "execution_count": 115,
      "metadata": {},
      "outputs": [
        {
          "name": "stderr",
          "output_type": "stream",
          "text": [
            "100%|██████████| 269/269 [00:01<00:00, 209.78it/s]\n"
          ]
        },
        {
          "name": "stdout",
          "output_type": "stream",
          "text": [
            "Accuracy on test set: 1.5223671197891235\n",
            ":Loss on train: 3.5737315429630776\n"
          ]
        },
        {
          "name": "stderr",
          "output_type": "stream",
          "text": [
            "100%|██████████| 269/269 [00:01<00:00, 190.91it/s]\n",
            "100%|██████████| 269/269 [00:01<00:00, 213.77it/s]\n",
            "100%|██████████| 269/269 [00:01<00:00, 188.34it/s]\n",
            "100%|██████████| 269/269 [00:01<00:00, 197.79it/s]\n",
            "100%|██████████| 269/269 [00:01<00:00, 178.10it/s]\n",
            "100%|██████████| 269/269 [00:01<00:00, 192.85it/s]\n",
            "100%|██████████| 269/269 [00:01<00:00, 177.95it/s]\n",
            "100%|██████████| 269/269 [00:01<00:00, 216.80it/s]\n",
            "100%|██████████| 269/269 [00:01<00:00, 189.13it/s]\n",
            "100%|██████████| 269/269 [00:01<00:00, 186.38it/s]\n"
          ]
        },
        {
          "name": "stdout",
          "output_type": "stream",
          "text": [
            "Accuracy on test set: 1.286994218826294\n",
            ":Loss on train: 2.5157431988911116\n"
          ]
        },
        {
          "name": "stderr",
          "output_type": "stream",
          "text": [
            "100%|██████████| 269/269 [00:01<00:00, 210.15it/s]\n",
            "100%|██████████| 269/269 [00:01<00:00, 189.18it/s]\n",
            "100%|██████████| 269/269 [00:01<00:00, 212.79it/s]\n",
            "100%|██████████| 269/269 [00:01<00:00, 184.25it/s]\n",
            "100%|██████████| 269/269 [00:01<00:00, 208.38it/s]\n",
            "100%|██████████| 269/269 [00:01<00:00, 186.36it/s]\n",
            "100%|██████████| 269/269 [00:01<00:00, 211.17it/s]\n",
            "100%|██████████| 269/269 [00:01<00:00, 163.56it/s]\n",
            "100%|██████████| 269/269 [00:01<00:00, 208.23it/s]\n",
            "100%|██████████| 269/269 [00:01<00:00, 163.98it/s]\n"
          ]
        },
        {
          "name": "stdout",
          "output_type": "stream",
          "text": [
            "Accuracy on test set: 1.0868897438049316\n",
            ":Loss on train: 1.669133734525801\n"
          ]
        },
        {
          "name": "stderr",
          "output_type": "stream",
          "text": [
            "100%|██████████| 269/269 [00:01<00:00, 200.15it/s]\n",
            "100%|██████████| 269/269 [00:01<00:00, 173.30it/s]\n",
            "100%|██████████| 269/269 [00:01<00:00, 210.57it/s]\n",
            "100%|██████████| 269/269 [00:01<00:00, 183.55it/s]\n",
            "100%|██████████| 269/269 [00:01<00:00, 183.05it/s]\n",
            "100%|██████████| 269/269 [00:01<00:00, 204.48it/s]\n",
            "100%|██████████| 269/269 [00:01<00:00, 180.40it/s]\n",
            "100%|██████████| 269/269 [00:01<00:00, 204.71it/s]\n",
            "100%|██████████| 269/269 [00:01<00:00, 179.53it/s]\n",
            "100%|██████████| 269/269 [00:01<00:00, 204.75it/s]\n"
          ]
        },
        {
          "name": "stdout",
          "output_type": "stream",
          "text": [
            "Accuracy on test set: 1.0317147970199585\n",
            ":Loss on train: 1.4712979075633903\n"
          ]
        },
        {
          "name": "stderr",
          "output_type": "stream",
          "text": [
            "100%|██████████| 269/269 [00:01<00:00, 180.35it/s]\n",
            "100%|██████████| 269/269 [00:01<00:00, 212.42it/s]\n",
            "100%|██████████| 269/269 [00:01<00:00, 176.87it/s]\n",
            "100%|██████████| 269/269 [00:01<00:00, 204.66it/s]\n",
            "100%|██████████| 269/269 [00:01<00:00, 180.41it/s]\n",
            "100%|██████████| 269/269 [00:01<00:00, 206.88it/s]\n",
            "100%|██████████| 269/269 [00:01<00:00, 180.98it/s]\n",
            "100%|██████████| 269/269 [00:01<00:00, 207.79it/s]\n",
            "100%|██████████| 269/269 [00:01<00:00, 184.27it/s]\n",
            "100%|██████████| 269/269 [00:01<00:00, 181.14it/s]\n"
          ]
        },
        {
          "name": "stdout",
          "output_type": "stream",
          "text": [
            "Accuracy on test set: 0.9578857421875\n",
            ":Loss on train: 1.2324628227262249\n"
          ]
        },
        {
          "name": "stderr",
          "output_type": "stream",
          "text": [
            "100%|██████████| 269/269 [00:01<00:00, 208.91it/s]\n",
            "100%|██████████| 269/269 [00:01<00:00, 182.13it/s]\n",
            "100%|██████████| 269/269 [00:01<00:00, 209.54it/s]\n",
            "100%|██████████| 269/269 [00:01<00:00, 205.56it/s]\n",
            "100%|██████████| 269/269 [00:01<00:00, 180.77it/s]\n",
            "100%|██████████| 269/269 [00:01<00:00, 180.12it/s]\n",
            "100%|██████████| 269/269 [00:01<00:00, 213.20it/s]\n",
            "100%|██████████| 269/269 [00:01<00:00, 177.50it/s]\n",
            "100%|██████████| 269/269 [00:01<00:00, 205.74it/s]\n",
            "100%|██████████| 269/269 [00:01<00:00, 180.38it/s]\n"
          ]
        },
        {
          "name": "stdout",
          "output_type": "stream",
          "text": [
            "Accuracy on test set: 0.8670429587364197\n",
            ":Loss on train: 0.9692750969783968\n"
          ]
        },
        {
          "name": "stderr",
          "output_type": "stream",
          "text": [
            "100%|██████████| 269/269 [00:01<00:00, 212.46it/s]\n",
            "100%|██████████| 269/269 [00:01<00:00, 177.66it/s]\n",
            "100%|██████████| 269/269 [00:01<00:00, 181.28it/s]\n",
            "100%|██████████| 269/269 [00:01<00:00, 205.78it/s]\n",
            "100%|██████████| 269/269 [00:01<00:00, 207.20it/s]\n",
            "100%|██████████| 269/269 [00:01<00:00, 173.08it/s]\n",
            "100%|██████████| 269/269 [00:01<00:00, 182.17it/s]\n",
            "100%|██████████| 269/269 [00:01<00:00, 208.29it/s]\n",
            "100%|██████████| 269/269 [00:01<00:00, 180.47it/s]\n",
            "100%|██████████| 269/269 [00:01<00:00, 205.69it/s]\n"
          ]
        },
        {
          "name": "stdout",
          "output_type": "stream",
          "text": [
            "Accuracy on test set: 0.7377942204475403\n",
            ":Loss on train: 0.6689282518337207\n"
          ]
        },
        {
          "name": "stderr",
          "output_type": "stream",
          "text": [
            "100%|██████████| 269/269 [00:01<00:00, 182.10it/s]\n",
            "100%|██████████| 269/269 [00:01<00:00, 211.00it/s]\n",
            "100%|██████████| 269/269 [00:01<00:00, 180.92it/s]\n",
            "100%|██████████| 269/269 [00:01<00:00, 205.97it/s]\n",
            "100%|██████████| 269/269 [00:01<00:00, 184.77it/s]\n",
            "100%|██████████| 269/269 [00:01<00:00, 210.84it/s]\n",
            "100%|██████████| 269/269 [00:01<00:00, 179.85it/s]\n",
            "100%|██████████| 269/269 [00:01<00:00, 177.42it/s]\n",
            "100%|██████████| 269/269 [00:01<00:00, 205.92it/s]\n",
            "100%|██████████| 269/269 [00:01<00:00, 178.00it/s]\n"
          ]
        },
        {
          "name": "stdout",
          "output_type": "stream",
          "text": [
            "Accuracy on test set: 0.5718190670013428\n",
            ":Loss on train: 0.3596775022138007\n"
          ]
        },
        {
          "name": "stderr",
          "output_type": "stream",
          "text": [
            "100%|██████████| 269/269 [00:01<00:00, 204.56it/s]\n",
            "100%|██████████| 269/269 [00:01<00:00, 179.75it/s]\n",
            "100%|██████████| 269/269 [00:01<00:00, 204.86it/s]\n",
            "100%|██████████| 269/269 [00:01<00:00, 181.80it/s]\n",
            "100%|██████████| 269/269 [00:01<00:00, 178.11it/s]\n",
            "100%|██████████| 269/269 [00:01<00:00, 208.61it/s]\n",
            "100%|██████████| 269/269 [00:01<00:00, 180.69it/s]\n",
            "100%|██████████| 269/269 [00:01<00:00, 197.67it/s]\n",
            "100%|██████████| 269/269 [00:01<00:00, 180.62it/s]\n",
            "100%|██████████| 269/269 [00:01<00:00, 203.66it/s]\n"
          ]
        },
        {
          "name": "stdout",
          "output_type": "stream",
          "text": [
            "Accuracy on test set: 0.46005064249038696\n",
            ":Loss on train: 0.22136674394837985\n"
          ]
        },
        {
          "name": "stderr",
          "output_type": "stream",
          "text": [
            "100%|██████████| 269/269 [00:01<00:00, 178.54it/s]\n",
            "100%|██████████| 269/269 [00:01<00:00, 197.32it/s]\n",
            "100%|██████████| 269/269 [00:01<00:00, 185.95it/s]\n",
            "100%|██████████| 269/269 [00:01<00:00, 211.05it/s]\n",
            "100%|██████████| 269/269 [00:01<00:00, 185.11it/s]\n",
            "100%|██████████| 269/269 [00:01<00:00, 213.85it/s]\n",
            "100%|██████████| 269/269 [00:01<00:00, 183.19it/s]\n",
            "100%|██████████| 269/269 [00:01<00:00, 213.78it/s]\n",
            "100%|██████████| 269/269 [00:01<00:00, 189.19it/s]\n",
            "100%|██████████| 269/269 [00:01<00:00, 213.92it/s]\n"
          ]
        },
        {
          "name": "stdout",
          "output_type": "stream",
          "text": [
            "Accuracy on test set: 0.3996523916721344\n",
            ":Loss on train: 0.15424698048364718\n"
          ]
        },
        {
          "name": "stderr",
          "output_type": "stream",
          "text": [
            "100%|██████████| 269/269 [00:01<00:00, 187.62it/s]\n",
            "100%|██████████| 269/269 [00:01<00:00, 216.74it/s]\n",
            "100%|██████████| 269/269 [00:01<00:00, 189.69it/s]\n",
            "100%|██████████| 269/269 [00:01<00:00, 214.82it/s]\n",
            "100%|██████████| 269/269 [00:01<00:00, 188.85it/s]\n",
            "100%|██████████| 269/269 [00:01<00:00, 211.48it/s]\n",
            "100%|██████████| 269/269 [00:01<00:00, 186.66it/s]\n",
            "100%|██████████| 269/269 [00:01<00:00, 214.52it/s]\n",
            "100%|██████████| 269/269 [00:01<00:00, 186.76it/s]\n",
            "100%|██████████| 269/269 [00:01<00:00, 215.61it/s]\n"
          ]
        },
        {
          "name": "stdout",
          "output_type": "stream",
          "text": [
            "Accuracy on test set: 0.34334293007850647\n",
            ":Loss on train: 0.12497519214246353\n"
          ]
        },
        {
          "name": "stderr",
          "output_type": "stream",
          "text": [
            "100%|██████████| 269/269 [00:01<00:00, 212.55it/s]\n",
            "100%|██████████| 269/269 [00:01<00:00, 183.88it/s]\n",
            "100%|██████████| 269/269 [00:01<00:00, 188.33it/s]\n",
            "100%|██████████| 269/269 [00:01<00:00, 213.75it/s]\n",
            "100%|██████████| 269/269 [00:01<00:00, 189.10it/s]\n",
            "100%|██████████| 269/269 [00:01<00:00, 212.31it/s]\n",
            "100%|██████████| 269/269 [00:01<00:00, 187.96it/s]\n",
            "100%|██████████| 269/269 [00:01<00:00, 217.18it/s]\n",
            "100%|██████████| 269/269 [00:01<00:00, 188.79it/s]\n",
            "100%|██████████| 269/269 [00:01<00:00, 184.47it/s]\n"
          ]
        },
        {
          "name": "stdout",
          "output_type": "stream",
          "text": [
            "Accuracy on test set: 0.3282962441444397\n",
            ":Loss on train: 0.11209422865100066\n"
          ]
        },
        {
          "name": "stderr",
          "output_type": "stream",
          "text": [
            "100%|██████████| 269/269 [00:01<00:00, 214.81it/s]\n",
            "100%|██████████| 269/269 [00:01<00:00, 214.91it/s]\n",
            "100%|██████████| 269/269 [00:01<00:00, 186.43it/s]\n",
            "100%|██████████| 269/269 [00:01<00:00, 187.88it/s]\n",
            "100%|██████████| 269/269 [00:01<00:00, 214.13it/s]\n",
            "100%|██████████| 269/269 [00:01<00:00, 188.18it/s]\n",
            "100%|██████████| 269/269 [00:01<00:00, 213.84it/s]\n",
            "100%|██████████| 269/269 [00:01<00:00, 183.03it/s]\n",
            "100%|██████████| 269/269 [00:01<00:00, 212.33it/s]\n",
            "100%|██████████| 269/269 [00:01<00:00, 187.48it/s]\n"
          ]
        },
        {
          "name": "stdout",
          "output_type": "stream",
          "text": [
            "Accuracy on test set: 0.30657631158828735\n",
            ":Loss on train: 0.10591059011929983\n"
          ]
        },
        {
          "name": "stderr",
          "output_type": "stream",
          "text": [
            "100%|██████████| 269/269 [00:01<00:00, 211.07it/s]\n",
            "100%|██████████| 269/269 [00:01<00:00, 181.88it/s]\n",
            "100%|██████████| 269/269 [00:01<00:00, 213.59it/s]\n",
            "100%|██████████| 269/269 [00:01<00:00, 185.07it/s]\n",
            "100%|██████████| 269/269 [00:01<00:00, 185.41it/s]\n",
            "100%|██████████| 269/269 [00:01<00:00, 212.45it/s]\n",
            "100%|██████████| 269/269 [00:01<00:00, 188.30it/s]\n",
            "100%|██████████| 269/269 [00:01<00:00, 213.86it/s]\n",
            "100%|██████████| 269/269 [00:01<00:00, 188.24it/s]\n",
            "100%|██████████| 269/269 [00:01<00:00, 212.87it/s]\n"
          ]
        },
        {
          "name": "stdout",
          "output_type": "stream",
          "text": [
            "Accuracy on test set: 0.2988901734352112\n",
            ":Loss on train: 0.10204086541353992\n"
          ]
        },
        {
          "name": "stderr",
          "output_type": "stream",
          "text": [
            "100%|██████████| 269/269 [00:01<00:00, 185.85it/s]\n",
            "100%|██████████| 269/269 [00:01<00:00, 184.93it/s]\n",
            "100%|██████████| 269/269 [00:01<00:00, 209.23it/s]\n",
            "100%|██████████| 269/269 [00:01<00:00, 189.06it/s]\n",
            "100%|██████████| 269/269 [00:01<00:00, 217.21it/s]\n",
            "100%|██████████| 269/269 [00:01<00:00, 184.98it/s]\n",
            "100%|██████████| 269/269 [00:01<00:00, 215.96it/s]\n",
            "100%|██████████| 269/269 [00:01<00:00, 187.47it/s]\n",
            "100%|██████████| 269/269 [00:01<00:00, 216.78it/s]\n",
            "100%|██████████| 269/269 [00:01<00:00, 188.47it/s]\n"
          ]
        },
        {
          "name": "stdout",
          "output_type": "stream",
          "text": [
            "Accuracy on test set: 0.29486697912216187\n",
            ":Loss on train: 0.09971677107549512\n"
          ]
        },
        {
          "name": "stderr",
          "output_type": "stream",
          "text": [
            "100%|██████████| 269/269 [00:01<00:00, 215.82it/s]\n",
            "100%|██████████| 269/269 [00:01<00:00, 189.09it/s]\n",
            "100%|██████████| 269/269 [00:01<00:00, 213.88it/s]\n",
            "100%|██████████| 269/269 [00:01<00:00, 184.43it/s]\n",
            "100%|██████████| 269/269 [00:01<00:00, 212.50it/s]\n",
            "100%|██████████| 269/269 [00:01<00:00, 189.22it/s]\n",
            "100%|██████████| 269/269 [00:01<00:00, 216.75it/s]\n",
            "100%|██████████| 269/269 [00:01<00:00, 188.27it/s]\n",
            "100%|██████████| 269/269 [00:01<00:00, 214.45it/s]\n",
            "100%|██████████| 269/269 [00:01<00:00, 186.27it/s]\n"
          ]
        },
        {
          "name": "stdout",
          "output_type": "stream",
          "text": [
            "Accuracy on test set: 0.28704437613487244\n",
            ":Loss on train: 0.09773997126015589\n"
          ]
        },
        {
          "name": "stderr",
          "output_type": "stream",
          "text": [
            "100%|██████████| 269/269 [00:01<00:00, 214.53it/s]\n",
            "100%|██████████| 269/269 [00:01<00:00, 183.98it/s]\n",
            "100%|██████████| 269/269 [00:01<00:00, 214.11it/s]\n",
            "100%|██████████| 269/269 [00:01<00:00, 187.30it/s]\n",
            "100%|██████████| 269/269 [00:01<00:00, 215.68it/s]\n",
            "100%|██████████| 269/269 [00:01<00:00, 184.79it/s]\n",
            "100%|██████████| 269/269 [00:01<00:00, 216.85it/s]\n",
            "100%|██████████| 269/269 [00:01<00:00, 214.52it/s]\n",
            "100%|██████████| 269/269 [00:01<00:00, 187.12it/s]\n",
            "100%|██████████| 269/269 [00:01<00:00, 187.66it/s]\n"
          ]
        },
        {
          "name": "stdout",
          "output_type": "stream",
          "text": [
            "Accuracy on test set: 0.2829539477825165\n",
            ":Loss on train: 0.09687645996481069\n"
          ]
        },
        {
          "name": "stderr",
          "output_type": "stream",
          "text": [
            "100%|██████████| 269/269 [00:01<00:00, 215.62it/s]\n",
            "100%|██████████| 269/269 [00:01<00:00, 187.66it/s]\n",
            "100%|██████████| 269/269 [00:01<00:00, 212.27it/s]\n",
            "100%|██████████| 269/269 [00:01<00:00, 186.19it/s]\n",
            "100%|██████████| 269/269 [00:01<00:00, 213.68it/s]\n",
            "100%|██████████| 269/269 [00:01<00:00, 191.12it/s]\n",
            "100%|██████████| 269/269 [00:01<00:00, 187.40it/s]\n",
            "100%|██████████| 269/269 [00:01<00:00, 213.37it/s]\n",
            "100%|██████████| 269/269 [00:01<00:00, 214.28it/s]\n",
            "100%|██████████| 269/269 [00:01<00:00, 187.85it/s]\n"
          ]
        },
        {
          "name": "stdout",
          "output_type": "stream",
          "text": [
            "Accuracy on test set: 0.27857378125190735\n",
            ":Loss on train: 0.09589216866457773\n"
          ]
        },
        {
          "name": "stderr",
          "output_type": "stream",
          "text": [
            "100%|██████████| 269/269 [00:01<00:00, 186.98it/s]\n",
            "100%|██████████| 269/269 [00:01<00:00, 215.54it/s]\n",
            "100%|██████████| 269/269 [00:01<00:00, 188.01it/s]\n",
            "100%|██████████| 269/269 [00:01<00:00, 216.36it/s]\n",
            "100%|██████████| 269/269 [00:01<00:00, 189.80it/s]\n",
            "100%|██████████| 269/269 [00:01<00:00, 214.69it/s]\n",
            "100%|██████████| 269/269 [00:01<00:00, 187.35it/s]\n",
            "100%|██████████| 269/269 [00:01<00:00, 210.71it/s]\n",
            "100%|██████████| 269/269 [00:01<00:00, 187.77it/s]\n",
            "100%|██████████| 269/269 [00:01<00:00, 215.62it/s]\n"
          ]
        },
        {
          "name": "stdout",
          "output_type": "stream",
          "text": [
            "Accuracy on test set: 0.27625733613967896\n",
            ":Loss on train: 0.09457713750547636\n"
          ]
        },
        {
          "name": "stderr",
          "output_type": "stream",
          "text": [
            "100%|██████████| 269/269 [00:01<00:00, 181.95it/s]\n",
            "100%|██████████| 269/269 [00:01<00:00, 184.10it/s]\n",
            "100%|██████████| 269/269 [00:01<00:00, 215.15it/s]\n",
            "100%|██████████| 269/269 [00:01<00:00, 184.08it/s]\n",
            "100%|██████████| 269/269 [00:01<00:00, 213.45it/s]\n",
            "100%|██████████| 269/269 [00:01<00:00, 188.41it/s]\n",
            "100%|██████████| 269/269 [00:01<00:00, 209.42it/s]\n",
            "100%|██████████| 269/269 [00:01<00:00, 185.13it/s]\n",
            "100%|██████████| 269/269 [00:01<00:00, 186.68it/s]\n",
            "100%|██████████| 269/269 [00:01<00:00, 210.27it/s]\n"
          ]
        },
        {
          "name": "stdout",
          "output_type": "stream",
          "text": [
            "Accuracy on test set: 0.28748342394828796\n",
            ":Loss on train: 0.09414619074435039\n"
          ]
        },
        {
          "name": "stderr",
          "output_type": "stream",
          "text": [
            "100%|██████████| 269/269 [00:01<00:00, 185.91it/s]\n",
            "100%|██████████| 269/269 [00:01<00:00, 213.25it/s]\n",
            "100%|██████████| 269/269 [00:01<00:00, 188.46it/s]\n",
            "100%|██████████| 269/269 [00:01<00:00, 214.79it/s]\n",
            "100%|██████████| 269/269 [00:01<00:00, 185.06it/s]\n",
            "100%|██████████| 269/269 [00:01<00:00, 213.56it/s]\n",
            "100%|██████████| 269/269 [00:01<00:00, 186.95it/s]\n",
            "100%|██████████| 269/269 [00:01<00:00, 212.24it/s]\n",
            "100%|██████████| 269/269 [00:01<00:00, 186.93it/s]\n",
            "100%|██████████| 269/269 [00:01<00:00, 215.83it/s]\n"
          ]
        },
        {
          "name": "stdout",
          "output_type": "stream",
          "text": [
            "Accuracy on test set: 0.2786867320537567\n",
            ":Loss on train: 0.0936819265101479\n"
          ]
        },
        {
          "name": "stderr",
          "output_type": "stream",
          "text": [
            "100%|██████████| 269/269 [00:01<00:00, 185.42it/s]\n",
            "100%|██████████| 269/269 [00:01<00:00, 217.45it/s]\n",
            "100%|██████████| 269/269 [00:01<00:00, 187.40it/s]\n",
            "100%|██████████| 269/269 [00:01<00:00, 214.61it/s]\n",
            "100%|██████████| 269/269 [00:01<00:00, 188.48it/s]\n",
            "100%|██████████| 269/269 [00:01<00:00, 214.72it/s]\n",
            "100%|██████████| 269/269 [00:01<00:00, 189.27it/s]\n",
            "100%|██████████| 269/269 [00:01<00:00, 215.78it/s]\n",
            "100%|██████████| 269/269 [00:01<00:00, 187.59it/s]\n",
            "100%|██████████| 269/269 [00:01<00:00, 212.70it/s]\n"
          ]
        },
        {
          "name": "stdout",
          "output_type": "stream",
          "text": [
            "Accuracy on test set: 0.2764526307582855\n",
            ":Loss on train: 0.0929824819019736\n"
          ]
        },
        {
          "name": "stderr",
          "output_type": "stream",
          "text": [
            "100%|██████████| 269/269 [00:01<00:00, 186.04it/s]\n",
            "100%|██████████| 269/269 [00:01<00:00, 215.83it/s]\n",
            "100%|██████████| 269/269 [00:01<00:00, 187.68it/s]\n",
            "100%|██████████| 269/269 [00:01<00:00, 215.46it/s]\n",
            "100%|██████████| 269/269 [00:01<00:00, 214.69it/s]\n",
            "100%|██████████| 269/269 [00:01<00:00, 182.84it/s]\n",
            "100%|██████████| 269/269 [00:01<00:00, 189.14it/s]\n",
            "100%|██████████| 269/269 [00:01<00:00, 214.88it/s]\n",
            "100%|██████████| 269/269 [00:01<00:00, 187.34it/s]\n",
            "100%|██████████| 269/269 [00:01<00:00, 213.65it/s]\n"
          ]
        },
        {
          "name": "stdout",
          "output_type": "stream",
          "text": [
            "Accuracy on test set: 0.2688486576080322\n",
            ":Loss on train: 0.09231620425960832\n"
          ]
        },
        {
          "name": "stderr",
          "output_type": "stream",
          "text": [
            "100%|██████████| 269/269 [00:01<00:00, 186.87it/s]\n",
            "100%|██████████| 269/269 [00:01<00:00, 214.35it/s]\n",
            "100%|██████████| 269/269 [00:01<00:00, 184.27it/s]\n",
            "100%|██████████| 269/269 [00:01<00:00, 189.53it/s]\n",
            "100%|██████████| 269/269 [00:01<00:00, 213.10it/s]\n",
            "100%|██████████| 269/269 [00:01<00:00, 215.67it/s]\n",
            "100%|██████████| 269/269 [00:01<00:00, 186.25it/s]\n",
            "100%|██████████| 269/269 [00:01<00:00, 186.44it/s]\n",
            "100%|██████████| 269/269 [00:01<00:00, 213.43it/s]\n",
            "100%|██████████| 269/269 [00:01<00:00, 186.06it/s]\n"
          ]
        },
        {
          "name": "stdout",
          "output_type": "stream",
          "text": [
            "Accuracy on test set: 0.2695125341415405\n",
            ":Loss on train: 0.09186773744436001\n"
          ]
        },
        {
          "name": "stderr",
          "output_type": "stream",
          "text": [
            "100%|██████████| 269/269 [00:01<00:00, 211.30it/s]\n",
            "100%|██████████| 269/269 [00:01<00:00, 186.37it/s]\n",
            "100%|██████████| 269/269 [00:01<00:00, 211.74it/s]\n",
            "100%|██████████| 269/269 [00:01<00:00, 182.42it/s]\n",
            "100%|██████████| 269/269 [00:01<00:00, 216.16it/s]\n",
            "100%|██████████| 269/269 [00:01<00:00, 188.33it/s]\n",
            "100%|██████████| 269/269 [00:01<00:00, 210.82it/s]\n",
            "100%|██████████| 269/269 [00:01<00:00, 188.36it/s]\n",
            "100%|██████████| 269/269 [00:01<00:00, 189.27it/s]\n",
            "100%|██████████| 269/269 [00:01<00:00, 211.52it/s]\n"
          ]
        },
        {
          "name": "stdout",
          "output_type": "stream",
          "text": [
            "Accuracy on test set: 0.2668132185935974\n",
            ":Loss on train: 0.09114259619916681\n"
          ]
        },
        {
          "name": "stderr",
          "output_type": "stream",
          "text": [
            "100%|██████████| 269/269 [00:01<00:00, 186.72it/s]\n",
            "100%|██████████| 269/269 [00:01<00:00, 213.55it/s]\n",
            "100%|██████████| 269/269 [00:01<00:00, 186.28it/s]\n",
            "100%|██████████| 269/269 [00:01<00:00, 213.12it/s]\n",
            "100%|██████████| 269/269 [00:01<00:00, 188.12it/s]\n",
            "100%|██████████| 269/269 [00:01<00:00, 185.96it/s]\n",
            "100%|██████████| 269/269 [00:01<00:00, 215.57it/s]\n",
            "100%|██████████| 269/269 [00:01<00:00, 190.74it/s]\n",
            "100%|██████████| 269/269 [00:01<00:00, 214.30it/s]\n",
            "100%|██████████| 269/269 [00:01<00:00, 188.23it/s]\n"
          ]
        },
        {
          "name": "stdout",
          "output_type": "stream",
          "text": [
            "Accuracy on test set: 0.26823368668556213\n",
            ":Loss on train: 0.090314128474232\n"
          ]
        },
        {
          "name": "stderr",
          "output_type": "stream",
          "text": [
            "100%|██████████| 269/269 [00:01<00:00, 216.46it/s]\n",
            "100%|██████████| 269/269 [00:01<00:00, 187.92it/s]\n",
            "100%|██████████| 269/269 [00:01<00:00, 214.37it/s]\n",
            "100%|██████████| 269/269 [00:01<00:00, 185.54it/s]\n",
            "100%|██████████| 269/269 [00:01<00:00, 211.76it/s]\n",
            "100%|██████████| 269/269 [00:01<00:00, 187.43it/s]\n",
            "100%|██████████| 269/269 [00:01<00:00, 217.67it/s]\n",
            "100%|██████████| 269/269 [00:01<00:00, 188.20it/s]\n",
            "100%|██████████| 269/269 [00:01<00:00, 218.43it/s]\n",
            "100%|██████████| 269/269 [00:01<00:00, 187.48it/s]\n"
          ]
        },
        {
          "name": "stdout",
          "output_type": "stream",
          "text": [
            "Accuracy on test set: 0.2623445987701416\n",
            ":Loss on train: 0.08927645525967765\n"
          ]
        },
        {
          "name": "stderr",
          "output_type": "stream",
          "text": [
            "100%|██████████| 269/269 [00:01<00:00, 212.36it/s]\n",
            "100%|██████████| 269/269 [00:01<00:00, 187.29it/s]\n",
            "100%|██████████| 269/269 [00:01<00:00, 210.62it/s]\n",
            "100%|██████████| 269/269 [00:01<00:00, 188.41it/s]\n",
            "100%|██████████| 269/269 [00:01<00:00, 214.13it/s]\n",
            "100%|██████████| 269/269 [00:01<00:00, 186.93it/s]\n",
            "100%|██████████| 269/269 [00:01<00:00, 214.07it/s]\n",
            "100%|██████████| 269/269 [00:01<00:00, 186.26it/s]\n",
            "100%|██████████| 269/269 [00:01<00:00, 212.61it/s]\n",
            "100%|██████████| 269/269 [00:01<00:00, 183.97it/s]\n"
          ]
        },
        {
          "name": "stdout",
          "output_type": "stream",
          "text": [
            "Accuracy on test set: 0.27228379249572754\n",
            ":Loss on train: 0.08866721926236242\n"
          ]
        },
        {
          "name": "stderr",
          "output_type": "stream",
          "text": [
            "100%|██████████| 269/269 [00:01<00:00, 214.98it/s]\n",
            "100%|██████████| 269/269 [00:01<00:00, 215.91it/s]\n",
            "100%|██████████| 269/269 [00:01<00:00, 187.63it/s]\n",
            "100%|██████████| 269/269 [00:01<00:00, 186.04it/s]\n",
            "100%|██████████| 269/269 [00:01<00:00, 213.25it/s]\n",
            "100%|██████████| 269/269 [00:01<00:00, 186.85it/s]\n",
            "100%|██████████| 269/269 [00:01<00:00, 218.49it/s]\n",
            "100%|██████████| 269/269 [00:01<00:00, 187.47it/s]\n",
            "100%|██████████| 269/269 [00:01<00:00, 213.41it/s]\n",
            "100%|██████████| 269/269 [00:01<00:00, 186.22it/s]\n"
          ]
        },
        {
          "name": "stdout",
          "output_type": "stream",
          "text": [
            "Accuracy on test set: 0.2630124092102051\n",
            ":Loss on train: 0.08797767423231806\n"
          ]
        },
        {
          "name": "stderr",
          "output_type": "stream",
          "text": [
            "100%|██████████| 269/269 [00:01<00:00, 184.76it/s]\n",
            "100%|██████████| 269/269 [00:01<00:00, 215.20it/s]\n",
            "100%|██████████| 269/269 [00:01<00:00, 213.35it/s]\n",
            "100%|██████████| 269/269 [00:01<00:00, 187.42it/s]\n",
            "100%|██████████| 269/269 [00:01<00:00, 185.24it/s]\n",
            "100%|██████████| 269/269 [00:01<00:00, 213.89it/s]\n",
            "100%|██████████| 269/269 [00:01<00:00, 187.66it/s]\n",
            "100%|██████████| 269/269 [00:01<00:00, 215.24it/s]\n",
            "100%|██████████| 269/269 [00:01<00:00, 187.13it/s]\n",
            "100%|██████████| 269/269 [00:01<00:00, 213.97it/s]\n"
          ]
        },
        {
          "name": "stdout",
          "output_type": "stream",
          "text": [
            "Accuracy on test set: 0.26783764362335205\n",
            ":Loss on train: 0.08766642428906876\n"
          ]
        },
        {
          "name": "stderr",
          "output_type": "stream",
          "text": [
            "100%|██████████| 269/269 [00:01<00:00, 183.49it/s]\n",
            "100%|██████████| 269/269 [00:01<00:00, 215.29it/s]\n",
            "100%|██████████| 269/269 [00:01<00:00, 185.49it/s]\n",
            "100%|██████████| 269/269 [00:01<00:00, 211.08it/s]\n",
            "100%|██████████| 269/269 [00:01<00:00, 186.05it/s]\n",
            "100%|██████████| 269/269 [00:01<00:00, 187.72it/s]\n",
            "100%|██████████| 269/269 [00:01<00:00, 213.93it/s]\n",
            "100%|██████████| 269/269 [00:01<00:00, 188.80it/s]\n",
            "100%|██████████| 269/269 [00:01<00:00, 215.09it/s]\n",
            "100%|██████████| 269/269 [00:01<00:00, 185.34it/s]\n"
          ]
        },
        {
          "name": "stdout",
          "output_type": "stream",
          "text": [
            "Accuracy on test set: 0.25514230132102966\n",
            ":Loss on train: 0.0869501531124115\n"
          ]
        },
        {
          "name": "stderr",
          "output_type": "stream",
          "text": [
            "100%|██████████| 269/269 [00:01<00:00, 213.17it/s]\n",
            "100%|██████████| 269/269 [00:01<00:00, 186.46it/s]\n",
            "100%|██████████| 269/269 [00:01<00:00, 182.45it/s]\n",
            "100%|██████████| 269/269 [00:01<00:00, 214.60it/s]\n",
            "100%|██████████| 269/269 [00:01<00:00, 188.34it/s]\n",
            "100%|██████████| 269/269 [00:01<00:00, 214.84it/s]\n",
            "100%|██████████| 269/269 [00:01<00:00, 185.54it/s]\n",
            "100%|██████████| 269/269 [00:01<00:00, 220.31it/s]\n",
            "100%|██████████| 269/269 [00:01<00:00, 189.10it/s]\n",
            "100%|██████████| 269/269 [00:01<00:00, 219.09it/s]\n"
          ]
        },
        {
          "name": "stdout",
          "output_type": "stream",
          "text": [
            "Accuracy on test set: 0.25389614701271057\n",
            ":Loss on train: 0.08686740677042078\n"
          ]
        },
        {
          "name": "stderr",
          "output_type": "stream",
          "text": [
            "100%|██████████| 269/269 [00:01<00:00, 185.97it/s]\n",
            "100%|██████████| 269/269 [00:01<00:00, 213.61it/s]\n",
            "100%|██████████| 269/269 [00:01<00:00, 184.63it/s]\n",
            "100%|██████████| 269/269 [00:01<00:00, 212.99it/s]\n",
            "100%|██████████| 269/269 [00:01<00:00, 187.73it/s]\n",
            "100%|██████████| 269/269 [00:01<00:00, 212.25it/s]\n",
            "100%|██████████| 269/269 [00:01<00:00, 186.78it/s]\n",
            "100%|██████████| 269/269 [00:01<00:00, 209.50it/s]\n",
            "100%|██████████| 269/269 [00:01<00:00, 185.87it/s]\n",
            "100%|██████████| 269/269 [00:01<00:00, 216.59it/s]\n"
          ]
        },
        {
          "name": "stdout",
          "output_type": "stream",
          "text": [
            "Accuracy on test set: 0.25063180923461914\n",
            ":Loss on train: 0.08616048238866834\n"
          ]
        },
        {
          "name": "stderr",
          "output_type": "stream",
          "text": [
            "100%|██████████| 269/269 [00:01<00:00, 190.29it/s]\n",
            "100%|██████████| 269/269 [00:01<00:00, 212.98it/s]\n",
            "100%|██████████| 269/269 [00:01<00:00, 188.73it/s]\n",
            "100%|██████████| 269/269 [00:01<00:00, 214.06it/s]\n",
            "100%|██████████| 269/269 [00:01<00:00, 187.76it/s]\n",
            "100%|██████████| 269/269 [00:01<00:00, 209.35it/s]\n",
            "100%|██████████| 269/269 [00:01<00:00, 186.46it/s]\n",
            "100%|██████████| 269/269 [00:01<00:00, 213.70it/s]\n",
            "100%|██████████| 269/269 [00:01<00:00, 212.96it/s]\n",
            "100%|██████████| 269/269 [00:01<00:00, 185.65it/s]\n"
          ]
        },
        {
          "name": "stdout",
          "output_type": "stream",
          "text": [
            "Accuracy on test set: 0.25259482860565186\n",
            ":Loss on train: 0.08594335643332243\n"
          ]
        },
        {
          "name": "stderr",
          "output_type": "stream",
          "text": [
            "100%|██████████| 269/269 [00:01<00:00, 185.26it/s]\n",
            "100%|██████████| 269/269 [00:01<00:00, 210.99it/s]\n",
            "100%|██████████| 269/269 [00:01<00:00, 188.00it/s]\n",
            "100%|██████████| 269/269 [00:01<00:00, 211.75it/s]\n",
            "100%|██████████| 269/269 [00:01<00:00, 186.50it/s]\n",
            "100%|██████████| 269/269 [00:01<00:00, 212.08it/s]\n",
            "100%|██████████| 269/269 [00:01<00:00, 183.46it/s]\n",
            "100%|██████████| 269/269 [00:01<00:00, 182.74it/s]\n",
            "100%|██████████| 269/269 [00:01<00:00, 210.05it/s]\n",
            "100%|██████████| 269/269 [00:01<00:00, 208.59it/s]\n"
          ]
        },
        {
          "name": "stdout",
          "output_type": "stream",
          "text": [
            "Accuracy on test set: 0.25301510095596313\n",
            ":Loss on train: 0.08563392030483728\n"
          ]
        },
        {
          "name": "stderr",
          "output_type": "stream",
          "text": [
            "100%|██████████| 269/269 [00:01<00:00, 183.47it/s]\n",
            "100%|██████████| 269/269 [00:01<00:00, 186.34it/s]\n",
            "100%|██████████| 269/269 [00:01<00:00, 216.37it/s]\n",
            "100%|██████████| 269/269 [00:01<00:00, 188.00it/s]\n",
            "100%|██████████| 269/269 [00:01<00:00, 216.81it/s]\n",
            "100%|██████████| 269/269 [00:01<00:00, 188.49it/s]\n",
            "100%|██████████| 269/269 [00:01<00:00, 217.39it/s]\n",
            "100%|██████████| 269/269 [00:01<00:00, 188.14it/s]\n",
            "100%|██████████| 269/269 [00:01<00:00, 208.51it/s]\n",
            "100%|██████████| 269/269 [00:01<00:00, 187.27it/s]\n"
          ]
        },
        {
          "name": "stdout",
          "output_type": "stream",
          "text": [
            "Accuracy on test set: 0.24976244568824768\n",
            ":Loss on train: 0.08515750176401386\n"
          ]
        },
        {
          "name": "stderr",
          "output_type": "stream",
          "text": [
            "100%|██████████| 269/269 [00:01<00:00, 215.93it/s]\n",
            "100%|██████████| 269/269 [00:01<00:00, 182.11it/s]\n",
            "100%|██████████| 269/269 [00:01<00:00, 187.70it/s]\n",
            "100%|██████████| 269/269 [00:01<00:00, 212.11it/s]\n",
            "100%|██████████| 269/269 [00:01<00:00, 189.27it/s]\n",
            "100%|██████████| 269/269 [00:01<00:00, 217.41it/s]\n",
            "100%|██████████| 269/269 [00:01<00:00, 188.06it/s]\n",
            "100%|██████████| 269/269 [00:01<00:00, 212.06it/s]\n",
            "100%|██████████| 269/269 [00:01<00:00, 185.87it/s]\n",
            "100%|██████████| 269/269 [00:01<00:00, 185.98it/s]\n"
          ]
        },
        {
          "name": "stdout",
          "output_type": "stream",
          "text": [
            "Accuracy on test set: 0.24609920382499695\n",
            ":Loss on train: 0.08439832801158544\n"
          ]
        },
        {
          "name": "stderr",
          "output_type": "stream",
          "text": [
            "100%|██████████| 269/269 [00:01<00:00, 211.11it/s]\n",
            "100%|██████████| 269/269 [00:01<00:00, 188.85it/s]\n",
            "100%|██████████| 269/269 [00:01<00:00, 214.33it/s]\n",
            "100%|██████████| 269/269 [00:01<00:00, 186.92it/s]\n",
            "100%|██████████| 269/269 [00:01<00:00, 213.15it/s]\n",
            "100%|██████████| 269/269 [00:01<00:00, 188.95it/s]\n",
            "100%|██████████| 269/269 [00:01<00:00, 215.70it/s]\n",
            "100%|██████████| 269/269 [00:01<00:00, 188.50it/s]\n",
            "100%|██████████| 269/269 [00:01<00:00, 213.62it/s]\n",
            "100%|██████████| 269/269 [00:01<00:00, 187.16it/s]\n"
          ]
        },
        {
          "name": "stdout",
          "output_type": "stream",
          "text": [
            "Accuracy on test set: 0.24470281600952148\n",
            ":Loss on train: 0.08117616248618272\n"
          ]
        },
        {
          "name": "stderr",
          "output_type": "stream",
          "text": [
            "100%|██████████| 269/269 [00:01<00:00, 216.29it/s]\n",
            "100%|██████████| 269/269 [00:01<00:00, 183.16it/s]\n",
            "100%|██████████| 269/269 [00:01<00:00, 212.05it/s]\n",
            "100%|██████████| 269/269 [00:01<00:00, 186.36it/s]\n",
            "100%|██████████| 269/269 [00:01<00:00, 210.10it/s]\n",
            "100%|██████████| 269/269 [00:01<00:00, 186.29it/s]\n",
            "100%|██████████| 269/269 [00:01<00:00, 216.87it/s]\n",
            "100%|██████████| 269/269 [00:01<00:00, 185.83it/s]\n",
            "100%|██████████| 269/269 [00:01<00:00, 213.85it/s]\n",
            "100%|██████████| 269/269 [00:01<00:00, 185.16it/s]\n"
          ]
        },
        {
          "name": "stdout",
          "output_type": "stream",
          "text": [
            "Accuracy on test set: 0.24631085991859436\n",
            ":Loss on train: 0.0743694537800484\n"
          ]
        },
        {
          "name": "stderr",
          "output_type": "stream",
          "text": [
            "100%|██████████| 269/269 [00:01<00:00, 214.25it/s]\n",
            "100%|██████████| 269/269 [00:01<00:00, 187.56it/s]\n",
            "100%|██████████| 269/269 [00:01<00:00, 211.38it/s]\n",
            "100%|██████████| 269/269 [00:01<00:00, 187.78it/s]\n",
            "100%|██████████| 269/269 [00:01<00:00, 217.40it/s]\n",
            "100%|██████████| 269/269 [00:01<00:00, 215.85it/s]\n",
            "100%|██████████| 269/269 [00:01<00:00, 186.89it/s]\n",
            "100%|██████████| 269/269 [00:01<00:00, 187.00it/s]\n",
            "100%|██████████| 269/269 [00:01<00:00, 211.91it/s]\n",
            "100%|██████████| 269/269 [00:01<00:00, 187.02it/s]\n"
          ]
        },
        {
          "name": "stdout",
          "output_type": "stream",
          "text": [
            "Accuracy on test set: 0.2272566258907318\n",
            ":Loss on train: 0.07071908800187607\n"
          ]
        },
        {
          "name": "stderr",
          "output_type": "stream",
          "text": [
            "100%|██████████| 269/269 [00:01<00:00, 214.40it/s]\n",
            "100%|██████████| 269/269 [00:01<00:00, 185.62it/s]\n",
            "100%|██████████| 269/269 [00:01<00:00, 211.14it/s]\n",
            "100%|██████████| 269/269 [00:01<00:00, 186.90it/s]\n",
            "100%|██████████| 269/269 [00:01<00:00, 183.33it/s]\n",
            "100%|██████████| 269/269 [00:01<00:00, 213.88it/s]\n",
            "100%|██████████| 269/269 [00:01<00:00, 213.04it/s]\n",
            "100%|██████████| 269/269 [00:01<00:00, 187.34it/s]\n",
            "100%|██████████| 269/269 [00:01<00:00, 186.42it/s]\n",
            "100%|██████████| 269/269 [00:01<00:00, 215.20it/s]\n"
          ]
        },
        {
          "name": "stdout",
          "output_type": "stream",
          "text": [
            "Accuracy on test set: 0.2297152578830719\n",
            ":Loss on train: 0.06572869367426656\n"
          ]
        },
        {
          "name": "stderr",
          "output_type": "stream",
          "text": [
            "100%|██████████| 269/269 [00:01<00:00, 186.38it/s]\n",
            "100%|██████████| 269/269 [00:01<00:00, 213.93it/s]\n",
            "100%|██████████| 269/269 [00:01<00:00, 187.65it/s]\n",
            "100%|██████████| 269/269 [00:01<00:00, 210.69it/s]\n",
            "100%|██████████| 269/269 [00:01<00:00, 186.58it/s]\n",
            "100%|██████████| 269/269 [00:01<00:00, 206.21it/s]\n",
            "100%|██████████| 269/269 [00:01<00:00, 187.13it/s]\n",
            "100%|██████████| 269/269 [00:01<00:00, 210.27it/s]\n",
            "100%|██████████| 269/269 [00:01<00:00, 184.91it/s]\n",
            "100%|██████████| 269/269 [00:01<00:00, 186.27it/s]\n"
          ]
        },
        {
          "name": "stdout",
          "output_type": "stream",
          "text": [
            "Accuracy on test set: 0.21103912591934204\n",
            ":Loss on train: 0.057170119288907174\n"
          ]
        },
        {
          "name": "stderr",
          "output_type": "stream",
          "text": [
            "100%|██████████| 269/269 [00:01<00:00, 208.09it/s]\n",
            "100%|██████████| 269/269 [00:01<00:00, 187.86it/s]\n",
            "100%|██████████| 269/269 [00:01<00:00, 215.05it/s]\n",
            "100%|██████████| 269/269 [00:01<00:00, 185.75it/s]\n",
            "100%|██████████| 269/269 [00:01<00:00, 215.59it/s]\n",
            "100%|██████████| 269/269 [00:01<00:00, 188.43it/s]\n",
            "100%|██████████| 269/269 [00:01<00:00, 184.16it/s]\n",
            "100%|██████████| 269/269 [00:01<00:00, 211.45it/s]\n",
            "100%|██████████| 269/269 [00:01<00:00, 182.81it/s]\n",
            "100%|██████████| 269/269 [00:01<00:00, 214.63it/s]\n"
          ]
        },
        {
          "name": "stdout",
          "output_type": "stream",
          "text": [
            "Accuracy on test set: 0.18301962316036224\n",
            ":Loss on train: 0.040694287690752944\n"
          ]
        },
        {
          "name": "stderr",
          "output_type": "stream",
          "text": [
            "100%|██████████| 269/269 [00:01<00:00, 184.96it/s]\n",
            "100%|██████████| 269/269 [00:01<00:00, 207.10it/s]\n",
            "100%|██████████| 269/269 [00:01<00:00, 181.68it/s]\n",
            "100%|██████████| 269/269 [00:01<00:00, 208.95it/s]\n",
            "100%|██████████| 269/269 [00:01<00:00, 188.72it/s]\n",
            "100%|██████████| 269/269 [00:01<00:00, 216.68it/s]\n",
            "100%|██████████| 269/269 [00:01<00:00, 183.74it/s]\n",
            "100%|██████████| 269/269 [00:01<00:00, 213.61it/s]\n",
            "100%|██████████| 269/269 [00:01<00:00, 184.63it/s]\n",
            "100%|██████████| 269/269 [00:01<00:00, 212.96it/s]\n"
          ]
        },
        {
          "name": "stdout",
          "output_type": "stream",
          "text": [
            "Accuracy on test set: 0.16781316697597504\n",
            ":Loss on train: 0.03390757325468897\n"
          ]
        },
        {
          "name": "stderr",
          "output_type": "stream",
          "text": [
            "100%|██████████| 269/269 [00:01<00:00, 169.85it/s]\n",
            "100%|██████████| 269/269 [00:01<00:00, 199.48it/s]\n",
            "100%|██████████| 269/269 [00:01<00:00, 161.59it/s]\n",
            "100%|██████████| 269/269 [00:01<00:00, 204.80it/s]\n",
            "100%|██████████| 269/269 [00:01<00:00, 188.80it/s]\n",
            "100%|██████████| 269/269 [00:01<00:00, 211.61it/s]\n",
            "100%|██████████| 269/269 [00:01<00:00, 185.30it/s]\n",
            "100%|██████████| 269/269 [00:01<00:00, 213.02it/s]\n",
            "100%|██████████| 269/269 [00:01<00:00, 186.21it/s]\n",
            "100%|██████████| 269/269 [00:01<00:00, 212.62it/s]\n"
          ]
        },
        {
          "name": "stdout",
          "output_type": "stream",
          "text": [
            "Accuracy on test set: 0.16319021582603455\n",
            ":Loss on train: 0.032257856974260514\n"
          ]
        },
        {
          "name": "stderr",
          "output_type": "stream",
          "text": [
            "100%|██████████| 269/269 [00:01<00:00, 190.32it/s]\n",
            "100%|██████████| 269/269 [00:01<00:00, 220.16it/s]\n",
            "100%|██████████| 269/269 [00:01<00:00, 215.17it/s]\n",
            "100%|██████████| 269/269 [00:01<00:00, 177.81it/s]\n",
            "100%|██████████| 269/269 [00:01<00:00, 171.14it/s]\n",
            "100%|██████████| 269/269 [00:01<00:00, 198.04it/s]\n",
            "100%|██████████| 269/269 [00:02<00:00, 131.98it/s]\n",
            "100%|██████████| 269/269 [00:01<00:00, 171.62it/s]\n",
            "100%|██████████| 269/269 [00:01<00:00, 176.53it/s]\n",
            "100%|██████████| 269/269 [00:01<00:00, 195.58it/s]\n"
          ]
        },
        {
          "name": "stdout",
          "output_type": "stream",
          "text": [
            "Accuracy on test set: 0.16082218289375305\n",
            ":Loss on train: 0.031367875545607625\n"
          ]
        },
        {
          "name": "stderr",
          "output_type": "stream",
          "text": [
            "100%|██████████| 269/269 [00:01<00:00, 173.37it/s]\n",
            "100%|██████████| 269/269 [00:01<00:00, 179.68it/s]\n",
            "100%|██████████| 269/269 [00:01<00:00, 200.02it/s]\n",
            "100%|██████████| 269/269 [00:01<00:00, 193.73it/s]\n",
            "100%|██████████| 269/269 [00:01<00:00, 179.11it/s]\n",
            "100%|██████████| 269/269 [00:01<00:00, 173.09it/s]\n",
            "100%|██████████| 269/269 [00:01<00:00, 197.57it/s]\n",
            "100%|██████████| 269/269 [00:01<00:00, 179.29it/s]\n",
            "100%|██████████| 269/269 [00:01<00:00, 201.36it/s]\n",
            "100%|██████████| 269/269 [00:01<00:00, 174.88it/s]\n"
          ]
        },
        {
          "name": "stdout",
          "output_type": "stream",
          "text": [
            "Accuracy on test set: 0.1590915024280548\n",
            ":Loss on train: 0.030754274747517914\n"
          ]
        },
        {
          "name": "stderr",
          "output_type": "stream",
          "text": [
            "100%|██████████| 269/269 [00:01<00:00, 198.39it/s]\n",
            "100%|██████████| 269/269 [00:01<00:00, 172.57it/s]\n",
            "100%|██████████| 269/269 [00:01<00:00, 200.64it/s]\n",
            "100%|██████████| 269/269 [00:01<00:00, 171.99it/s]\n",
            "100%|██████████| 269/269 [00:01<00:00, 198.99it/s]\n",
            "100%|██████████| 269/269 [00:01<00:00, 177.94it/s]\n",
            "100%|██████████| 269/269 [00:01<00:00, 176.44it/s]\n",
            "100%|██████████| 269/269 [00:01<00:00, 196.96it/s]\n",
            "100%|██████████| 269/269 [00:01<00:00, 177.01it/s]\n",
            "100%|██████████| 269/269 [00:01<00:00, 192.43it/s]\n"
          ]
        },
        {
          "name": "stdout",
          "output_type": "stream",
          "text": [
            "Accuracy on test set: 0.15913741290569305\n",
            ":Loss on train: 0.030148237763616675\n"
          ]
        },
        {
          "name": "stderr",
          "output_type": "stream",
          "text": [
            "100%|██████████| 269/269 [00:01<00:00, 180.56it/s]\n",
            "100%|██████████| 269/269 [00:01<00:00, 196.38it/s]\n",
            "100%|██████████| 269/269 [00:01<00:00, 169.88it/s]\n",
            "100%|██████████| 269/269 [00:01<00:00, 180.41it/s]\n",
            "100%|██████████| 269/269 [00:01<00:00, 198.37it/s]\n",
            "100%|██████████| 269/269 [00:01<00:00, 178.06it/s]\n",
            "100%|██████████| 269/269 [00:01<00:00, 196.50it/s]\n",
            "100%|██████████| 269/269 [00:01<00:00, 173.39it/s]\n",
            "100%|██████████| 269/269 [00:01<00:00, 201.49it/s]\n",
            "100%|██████████| 269/269 [00:01<00:00, 175.43it/s]\n"
          ]
        },
        {
          "name": "stdout",
          "output_type": "stream",
          "text": [
            "Accuracy on test set: 0.15190616250038147\n",
            ":Loss on train: 0.029405283945920742\n"
          ]
        },
        {
          "name": "stderr",
          "output_type": "stream",
          "text": [
            "100%|██████████| 269/269 [00:01<00:00, 197.58it/s]\n",
            "100%|██████████| 269/269 [00:01<00:00, 175.89it/s]\n",
            "100%|██████████| 269/269 [00:01<00:00, 194.70it/s]\n",
            "100%|██████████| 269/269 [00:01<00:00, 176.96it/s]\n",
            "100%|██████████| 269/269 [00:01<00:00, 173.70it/s]\n",
            "100%|██████████| 269/269 [00:01<00:00, 201.87it/s]\n",
            "100%|██████████| 269/269 [00:01<00:00, 176.14it/s]\n",
            "100%|██████████| 269/269 [00:01<00:00, 197.96it/s]\n",
            "100%|██████████| 269/269 [00:01<00:00, 170.04it/s]\n",
            "100%|██████████| 269/269 [00:01<00:00, 201.60it/s]\n"
          ]
        },
        {
          "name": "stdout",
          "output_type": "stream",
          "text": [
            "Accuracy on test set: 0.15023285150527954\n",
            ":Loss on train: 0.027126894779087887\n"
          ]
        },
        {
          "name": "stderr",
          "output_type": "stream",
          "text": [
            "100%|██████████| 269/269 [00:01<00:00, 173.67it/s]\n",
            "100%|██████████| 269/269 [00:01<00:00, 203.49it/s]\n",
            "100%|██████████| 269/269 [00:01<00:00, 178.68it/s]\n",
            "100%|██████████| 269/269 [00:01<00:00, 198.90it/s]\n",
            "100%|██████████| 269/269 [00:01<00:00, 181.84it/s]\n",
            "100%|██████████| 269/269 [00:01<00:00, 198.22it/s]\n",
            "100%|██████████| 269/269 [00:01<00:00, 173.12it/s]\n",
            "100%|██████████| 269/269 [00:01<00:00, 203.46it/s]\n",
            "100%|██████████| 269/269 [00:01<00:00, 176.32it/s]\n"
          ]
        }
      ],
      "source": [
        "# Train Network\n",
        "epoch_losses = []\n",
        "for epoch in range(NUM_EPOCHS):\n",
        "    losses = []\n",
        "    for batch_idx, (data, targets) in enumerate(tqdm(train_loader)):\n",
        "        # forward\n",
        "        scores = model(data)\n",
        "        loss = criterion(scores, targets)\n",
        "\n",
        "        # backward\n",
        "        optimizer.zero_grad()\n",
        "        loss.backward()\n",
        "        # gradient descent or adam step\n",
        "        optimizer.step()\n",
        "        losses.append(loss.item())\n",
        "    if epoch % 10 == 0:\n",
        "        print(f\"Accuracy on test set: {check_accuracy(test_loader, model)}\")\n",
        "        print(f\":Loss on train: {np.mean(losses)}\")\n",
        "    epoch_losses.append(np.mean(losses))\n",
        "    \n"
      ]
    },
    {
      "cell_type": "code",
      "execution_count": 116,
      "metadata": {},
      "outputs": [
        {
          "data": {
            "image/png": "[encoded data removed]",
            "text/plain": [
              "<Figure size 360x360 with 1 Axes>"
            ]
          },
          "metadata": {
            "needs_background": "light"
          },
          "output_type": "display_data"
        }
      ],
      "source": [
        "fig, axs = plt.subplots(figsize=(5, 5))\n",
        "axs.set_title(\"loss\")\n",
        "axs.plot(epoch_losses)\n",
        "axs.grid()"
      ]
    },
    {
      "cell_type": "code",
      "execution_count": 117,
      "metadata": {},
      "outputs": [],
      "source": [
        "# save model\n",
        "torch.save(model.state_dict(), weights_fname)"
      ]
    },
    {
      "cell_type": "markdown",
      "metadata": {
        "id": "QEZUL-6tAfOU"
      },
      "source": [
        "# Графики для обученной сети"
      ]
    },
    {
      "cell_type": "markdown",
      "metadata": {
        "id": "ztYK0YZ5CJIB"
      },
      "source": [
        "### Постоянные значения управления"
      ]
    },
    {
      "cell_type": "code",
      "execution_count": 118,
      "metadata": {},
      "outputs": [
        {
          "data": {
            "text/plain": [
              "NNModel(\n",
              "  (fc1): Linear(in_features=4, out_features=100, bias=True)\n",
              "  (fc2): Linear(in_features=100, out_features=100, bias=True)\n",
              "  (fc3): Linear(in_features=100, out_features=2, bias=True)\n",
              ")"
            ]
          },
          "execution_count": 118,
          "metadata": {},
          "output_type": "execute_result"
        }
      ],
      "source": [
        "# load model\n",
        "model = NNModel(arg_num, f_num)\n",
        "model.load_state_dict(torch.load(weights_fname))\n",
        "model.eval().to(device)"
      ]
    },
    {
      "cell_type": "code",
      "execution_count": 119,
      "metadata": {
        "colab": {
          "base_uri": "https://localhost:8080/"
        },
        "id": "o6F066BxAfOZ",
        "outputId": "b27cdd7b-ecd0-471d-e93f-e7823f010ba6"
      },
      "outputs": [
        {
          "name": "stdout",
          "output_type": "stream",
          "text": [
            "Графики при x0 = [0.000000, 0.000000] и управлении = [0.500000, 0.500000]\n"
          ]
        }
      ],
      "source": [
        "# Интервалы наблюдения\n",
        "t = np.arange(0,tmax,dt)\n",
        "\n",
        "# Выбор начального значения вектора состояния\n",
        "x0kd = [0, 0]\n",
        "\n",
        "# Выбор значения управления - от -1 до 1\n",
        "uk1 = 0.5\n",
        "uk2 = 0.5\n",
        "\n",
        "print('Графики при x0 = [%f, %f] и управлении = [%f, %f]' % (x0kd[0], x0kd[1], uk1, uk2))\n",
        "\n",
        "uk = []\n",
        "for i in range(0,len(t)):\n",
        "  uk.append([uk1, uk2])\n"
      ]
    },
    {
      "cell_type": "code",
      "execution_count": 120,
      "metadata": {
        "colab": {
          "base_uri": "https://localhost:8080/",
          "height": 910
        },
        "id": "P4G1c7VSAfOb",
        "outputId": "ede5590a-7c96-4b70-be85-397186cc0000"
      },
      "outputs": [
        {
          "data": {
            "text/plain": [
              "<matplotlib.legend.Legend at 0x7f2938e92ca0>"
            ]
          },
          "execution_count": 120,
          "metadata": {},
          "output_type": "execute_result"
        },
        {
          "data": {
            "image/png": "[encoded data removed]",
            "text/plain": [
              "<Figure size 1080x1080 with 9 Axes>"
            ]
          },
          "metadata": {
            "needs_background": "light"
          },
          "output_type": "display_data"
        }
      ],
      "source": [
        "# x2x1Str = ('График изменения x2 от x1')\n",
        "# x1Str = ('График изменения x1 от t')\n",
        "# x2Str = ('График изменения x2 от t')\n",
        "# u1Str = ('График изменения u1 от t')\n",
        "# u2Str = ('График изменения u2 от t')\n",
        "# dotx1Str = ('График изменения dotx1 от t')\n",
        "# dotx2Str = ('График изменения dotx2 от t')\n",
        "\n",
        "x2x1Str = (\"x2/x1\")\n",
        "x1Str = (\"x1/t\")\n",
        "x2Str = (\"x2/t\")\n",
        "u1Str = (\"u1/t\")\n",
        "u2Str = (\"u2/t\")\n",
        "dotx1Str = (\"dotx1/t\")\n",
        "dotx2Str = (\"dotx2/t\")\n",
        "\n",
        "y_ref = []\n",
        "neural_res = []\n",
        "\n",
        "x0k = [x0kd[0], x0kd[1]]\n",
        "\n",
        "x0nn = []\n",
        "x0nn.append(x0k[0])  # x1\n",
        "x0nn.append(x0k[1])  # x2\n",
        "x0nn.append(uk[i][0])  # u1\n",
        "x0nn.append(uk[i][1])  # u2\n",
        "x_input = [x0nn]\n",
        "\n",
        "x0ns = []\n",
        "x0ns.append(x0k[0])  # x1\n",
        "x0ns.append(x0k[1])  # x2\n",
        "\n",
        "for i in range(0, len(t)):\n",
        "    nn_res = model(torch.Tensor(x_input).to(device)).cpu().detach().numpy()\n",
        "    opt_res = Euler2(x0k, uk[i], dt, state_dim)\n",
        "\n",
        "    if (len(nn_res) == 1 and len(opt_res) == 1):\n",
        "        y_row = []\n",
        "        nn_row = []\n",
        "\n",
        "        # reference state\n",
        "        for item in opt_res[0][0]:\n",
        "            y_row.append(item)\n",
        "\n",
        "        # nn state\n",
        "        for j in range(0, state_dim):\n",
        "            nn_row.append(x0ns[j] + dt * nn_res[0][j])\n",
        "\n",
        "        # control\n",
        "        for item in uk[i]:\n",
        "            y_row.append(item)\n",
        "            nn_row.append(item)\n",
        "\n",
        "        # reference derivative\n",
        "        for item in opt_res[0][1]:\n",
        "            y_row.append(item)\n",
        "\n",
        "        # nn derivative\n",
        "        for item in nn_res[0]:\n",
        "            nn_row.append(item)\n",
        "\n",
        "        # reference next state\n",
        "        for j in range(0, state_dim):\n",
        "            x0k[j] = x0k[j] + dt*y_row[4+j]\n",
        "\n",
        "        # nn next input\n",
        "        x0nn = []\n",
        "        if (i < len(t)-1):\n",
        "            x0nn.append(nn_row[0])  # x1\n",
        "            x0nn.append(nn_row[1])  # x2\n",
        "            x0nn.append(uk[i+1][0])  # u1\n",
        "            x0nn.append(uk[i+1][1])  # u2\n",
        "        x_input = [x0nn]\n",
        "\n",
        "        # check nn state angle for exeeding 2*pi value\n",
        "        if (nn_row[2] > 1):\n",
        "            nn_row[2] = nn_row[2] - 1\n",
        "        if (nn_row[2] < -1):\n",
        "            nn_row[2] = nn_row[2] + 1\n",
        "\n",
        "        # nn new current state\n",
        "        for j in range(0, state_dim):\n",
        "            x0ns[j] = nn_row[j]\n",
        "\n",
        "        y_ref.append(y_row)\n",
        "        neural_res.append(nn_row)\n",
        "\n",
        "y_ref = np.asarray(y_ref)\n",
        "y_ref = y_ref.T\n",
        "\n",
        "neural_res = np.asarray(neural_res)\n",
        "neural_res = neural_res.T\n",
        "\n",
        "fig, axs = plt.subplots(3, 3, figsize=(15, 15))\n",
        "\n",
        "axs[0, 0].plot(y_ref[0], y_ref[1], label=\"euler\")\n",
        "axs[0, 0].plot(neural_res[0], neural_res[1], label=\"nn\")\n",
        "axs[0, 0].set_xlabel('x1')\n",
        "axs[0, 0].set_ylabel('x2')\n",
        "axs[0, 0].grid()\n",
        "axs[0, 0].set_title(x2x1Str)\n",
        "axs[0, 0].legend(loc=\"upper left\")\n",
        "\n",
        "\n",
        "axs[0, 1].plot(t.T, y_ref[2], label=\"euler\")\n",
        "axs[0, 1].plot(t.T, neural_res[2], label=\"nn\")\n",
        "axs[0, 1].set_xlabel('time')\n",
        "axs[0, 1].set_ylabel('u1')\n",
        "axs[0, 1].grid()\n",
        "axs[0, 1].set_title(u1Str)\n",
        "axs[0, 1].legend(loc=\"upper left\")\n",
        "\n",
        "\n",
        "axs[0, 2].plot(t, y_ref[3], label=\"euler\")\n",
        "axs[0, 2].plot(t, neural_res[3], label=\"nn\")\n",
        "axs[0, 2].set_xlabel('time')\n",
        "axs[0, 2].set_ylabel('u2')\n",
        "axs[0, 2].grid()\n",
        "axs[0, 2].set_title(u2Str)\n",
        "axs[0, 2].legend(loc=\"upper left\")\n",
        "\n",
        "\n",
        "axs[1, 0].plot(t, y_ref[0], label=\"euler\")\n",
        "axs[1, 0].plot(t, neural_res[0], label=\"nn\")\n",
        "axs[1, 0].set_xlabel('time')\n",
        "axs[1, 0].set_ylabel('x1')\n",
        "axs[1, 0].grid()\n",
        "axs[1, 0].set_title(x1Str)\n",
        "axs[1, 0].legend(loc=\"upper left\")\n",
        "\n",
        "\n",
        "axs[1, 1].plot(t, y_ref[1], label=\"euler\")\n",
        "axs[1, 1].plot(t, neural_res[1], label=\"nn\")\n",
        "axs[1, 1].set_xlabel('time')\n",
        "axs[1, 1].set_ylabel('x2')\n",
        "axs[1, 1].grid()\n",
        "axs[1, 1].set_title(x2Str)\n",
        "axs[1, 1].legend(loc=\"upper left\")\n",
        "\n",
        "\n",
        "# axs[1, 2].plot(t, y_ref[2], label=x3Str)\n",
        "# axs[1, 2].plot(t, neural_res[2], label=x3Str)\n",
        "# axs[1, 2].set_xlabel('Время')\n",
        "# axs[1, 2].set_ylabel('x3')\n",
        "# axs[1, 2].grid()\n",
        "# axs[1, 2].set_title(x3Str)\n",
        "\n",
        "\n",
        "axs[2, 0].plot(t, y_ref[4], label=\"euler\")\n",
        "axs[2, 0].plot(t, neural_res[4], label=\"nn\")\n",
        "axs[2, 0].set_xlabel('time')\n",
        "axs[2, 0].set_ylabel('dotx1')\n",
        "axs[2, 0].grid()\n",
        "axs[2, 0].set_title(dotx1Str)\n",
        "axs[2, 0].legend(loc=\"upper left\")\n",
        "\n",
        "\n",
        "axs[2, 1].plot(t, y_ref[5], label=\"euler\")\n",
        "axs[2, 1].plot(t, neural_res[5], label=\"nn\")\n",
        "axs[2, 1].set_xlabel('time')\n",
        "axs[2, 1].set_ylabel('dotx2')\n",
        "axs[2, 1].grid()\n",
        "axs[2, 1].set_title(dotx1Str)\n",
        "axs[2, 1].legend(loc=\"upper left\")\n",
        "\n",
        "\n",
        "# axs[2, 2].plot(t, y_ref[7], label=dotx3Str)\n",
        "# axs[2, 2].plot(t, neural_res[7], label=dotx3Str)\n",
        "# axs[2, 2].set_xlabel('Время')\n",
        "# axs[2, 2].set_ylabel('dotx3')\n",
        "# axs[2, 2].grid()\n",
        "# axs[2, 2].set_title(dotx3Str)"
      ]
    },
    {
      "cell_type": "code",
      "execution_count": null,
      "metadata": {},
      "outputs": [],
      "source": []
    }
  ],
  "metadata": {
    "accelerator": "GPU",
    "colab": {
      "collapsed_sections": [],
      "name": "Копия блокнота \"MobileRobotODEModelIdentification.ipynb\"",
      "provenance": []
    },
    "interpreter": {
      "hash": "916dbcbb3f70747c44a77c7bcd40155683ae19c65e1c03b4aa3499c5328201f1"
    },
    "kernelspec": {
      "display_name": "Python 3.8.10 64-bit",
      "language": "python",
      "name": "python3"
    },
    "language_info": {
      "codemirror_mode": {
        "name": "ipython",
        "version": 3
      },
      "file_extension": ".py",
      "mimetype": "text/x-python",
      "name": "python",
      "nbconvert_exporter": "python",
      "pygments_lexer": "ipython3",
      "version": "3.8.10"
    }
  },
  "nbformat": 4,
  "nbformat_minor": 0
}
