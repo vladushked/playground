{
  "cells": [
    {
      "cell_type": "markdown",
      "metadata": {
        "id": "7g986qOlBKAo"
      },
      "source": [
        "### Импорт библиотек"
      ]
    },
    {
      "cell_type": "code",
      "execution_count": 79,
      "metadata": {
        "id": "9lB01xLwRnXZ"
      },
      "outputs": [],
      "source": [
        "import torch\n",
        "import torch.nn as nn\n",
        "import torch.nn.functional as F\n",
        "from torch.utils.data import Dataset, DataLoader\n",
        "from tqdm import tqdm  # For nice progress bar!\n",
        "from sklearn.model_selection import train_test_split\n",
        "from sklearn.metrics import accuracy_score\n",
        "import numpy as np\n",
        "import math\n",
        "import os\n",
        "from scipy.integrate import *\n",
        "import pandas as pd\n",
        "import csv\n",
        "import matplotlib.pyplot as plt"
      ]
    },
    {
      "cell_type": "markdown",
      "metadata": {
        "id": "N7bJLAsFnqsA"
      },
      "source": [
        "###  Описание объекта в виде системы ОДУ\n",
        "\n",
        "\n",
        "---\n",
        "\n",
        "\n",
        "\n",
        "$\\left\\{\\begin{array}{l}\n",
        "\\dot{x}_1= u_1\\sin{(x_2+u_2)} \\\\\n",
        "\\dot{x}_2= x_1\\cos{(x_1u_2)} \\\\\n",
        "\\end{array}\\right.$\n",
        "\n",
        "$ $\n",
        "\n",
        "---\n",
        "\n",
        "$ $\n",
        "\n",
        "Начальное состояние системы:  $\\mathbf{x}^0 = \\left[0\\;0\\right]^\\mathrm{T}$,\n",
        "\n",
        "Ограничение на управление:  $u_i \\in \\left[-1;1\\right], i={1,2}$.\n",
        "\n",
        "$t_0 = 0$ , $t_{max}=5$, $\\Delta t=0.01$.\n",
        "\n"
      ]
    },
    {
      "cell_type": "markdown",
      "metadata": {
        "id": "LLapIljhYeob"
      },
      "source": [
        "### Константы"
      ]
    },
    {
      "cell_type": "code",
      "execution_count": 80,
      "metadata": {
        "id": "_3Bu870fYm0q"
      },
      "outputs": [],
      "source": [
        "dt = 0.01 # дельта t\n",
        "tmax = 5 # время интегрирования\n",
        "du = 0.1 # шаг изменения управления\n",
        "umin = [-1, -1] # ограничение на управление снизу\n",
        "umax = [1, 1] # ограничение на управление сверху\n",
        "dx = 0.1 # шаг изменения значения начального угла положения робота\n",
        "state_dim = 2 # размерность вектора состояния\n",
        "control_dim = 2 # размерность вектора управления\n",
        "\n",
        "dataset_csv_name = 'dataset.csv'"
      ]
    },
    {
      "cell_type": "code",
      "execution_count": 81,
      "metadata": {
        "id": "dxEisRZdXm8z"
      },
      "outputs": [],
      "source": [
        "def dynamic_object_model(x, u):\n",
        "    return [u[0] * np.sin(x[1] + u[1]),\n",
        "            x[0] * np.cos(x[0] * u[1])]"
      ]
    },
    {
      "cell_type": "code",
      "execution_count": 82,
      "metadata": {
        "id": "LHL4tbEXW2Gx"
      },
      "outputs": [],
      "source": [
        "def Euler2(x0, u, dt, state_dim):\n",
        "    res = []\n",
        "    dt1 = []\n",
        "    dt2 = []\n",
        "    for i in range(0, state_dim):\n",
        "        dt1.append(dt)\n",
        "        dt2.append(dt/2)\n",
        "\n",
        "    stepres = []\n",
        "    stepres.append(np.array(x0))\n",
        "    tempdotX = dynamic_object_model(x0, u)\n",
        "    tempX = x0 + np.multiply(tempdotX, dt2)\n",
        "    dotX = dynamic_object_model(tempX, u)\n",
        "    x0 = x0 + np.multiply(dotX, dt1)\n",
        "    stepres.append(np.array(dotX))\n",
        "    res.append(stepres)\n",
        "\n",
        "    return res\n"
      ]
    },
    {
      "cell_type": "markdown",
      "metadata": {
        "id": "elMksMvy-wDU"
      },
      "source": [
        "# Создание обучающей выборки"
      ]
    },
    {
      "cell_type": "code",
      "execution_count": 83,
      "metadata": {
        "colab": {
          "base_uri": "https://localhost:8080/"
        },
        "id": "Ig0EoTl0bRwo",
        "outputId": "da746c4a-3bd0-4edb-f168-380a96820be9"
      },
      "outputs": [
        {
          "name": "stdout",
          "output_type": "stream",
          "text": [
            "Количество точек x[0] - 20\n",
            "Количество точек x[1] - 20\n",
            "Количество точек u[0] - 21\n",
            "Количество точек u[1] - 21\n"
          ]
        },
        {
          "data": {
            "text/html": [
              "<div>\n",
              "<style scoped>\n",
              "    .dataframe tbody tr th:only-of-type {\n",
              "        vertical-align: middle;\n",
              "    }\n",
              "\n",
              "    .dataframe tbody tr th {\n",
              "        vertical-align: top;\n",
              "    }\n",
              "\n",
              "    .dataframe thead th {\n",
              "        text-align: right;\n",
              "    }\n",
              "</style>\n",
              "<table border=\"1\" class=\"dataframe\">\n",
              "  <thead>\n",
              "    <tr style=\"text-align: right;\">\n",
              "      <th></th>\n",
              "      <th>x1</th>\n",
              "      <th>x2</th>\n",
              "      <th>u1</th>\n",
              "      <th>u2</th>\n",
              "      <th>dotx1</th>\n",
              "      <th>dotx2</th>\n",
              "    </tr>\n",
              "  </thead>\n",
              "  <tbody>\n",
              "    <tr>\n",
              "      <th>0</th>\n",
              "      <td>-1.0</td>\n",
              "      <td>-1.0</td>\n",
              "      <td>-1.0</td>\n",
              "      <td>-1.0</td>\n",
              "      <td>0.908170</td>\n",
              "      <td>-0.541649</td>\n",
              "    </tr>\n",
              "    <tr>\n",
              "      <th>1</th>\n",
              "      <td>-1.0</td>\n",
              "      <td>-1.0</td>\n",
              "      <td>-1.0</td>\n",
              "      <td>-0.9</td>\n",
              "      <td>0.945291</td>\n",
              "      <td>-0.621983</td>\n",
              "    </tr>\n",
              "    <tr>\n",
              "      <th>2</th>\n",
              "      <td>-1.0</td>\n",
              "      <td>-1.0</td>\n",
              "      <td>-1.0</td>\n",
              "      <td>-0.8</td>\n",
              "      <td>0.973050</td>\n",
              "      <td>-0.696090</td>\n",
              "    </tr>\n",
              "    <tr>\n",
              "      <th>3</th>\n",
              "      <td>-1.0</td>\n",
              "      <td>-1.0</td>\n",
              "      <td>-1.0</td>\n",
              "      <td>-0.7</td>\n",
              "      <td>0.991165</td>\n",
              "      <td>-0.763270</td>\n",
              "    </tr>\n",
              "    <tr>\n",
              "      <th>4</th>\n",
              "      <td>-1.0</td>\n",
              "      <td>-1.0</td>\n",
              "      <td>-1.0</td>\n",
              "      <td>-0.6</td>\n",
              "      <td>0.999445</td>\n",
              "      <td>-0.822892</td>\n",
              "    </tr>\n",
              "    <tr>\n",
              "      <th>...</th>\n",
              "      <td>...</td>\n",
              "      <td>...</td>\n",
              "      <td>...</td>\n",
              "      <td>...</td>\n",
              "      <td>...</td>\n",
              "      <td>...</td>\n",
              "    </tr>\n",
              "    <tr>\n",
              "      <th>176395</th>\n",
              "      <td>0.9</td>\n",
              "      <td>0.9</td>\n",
              "      <td>1.0</td>\n",
              "      <td>0.6</td>\n",
              "      <td>0.997761</td>\n",
              "      <td>0.774820</td>\n",
              "    </tr>\n",
              "    <tr>\n",
              "      <th>176396</th>\n",
              "      <td>0.9</td>\n",
              "      <td>0.9</td>\n",
              "      <td>1.0</td>\n",
              "      <td>0.7</td>\n",
              "      <td>0.999461</td>\n",
              "      <td>0.729393</td>\n",
              "    </tr>\n",
              "    <tr>\n",
              "      <th>176397</th>\n",
              "      <td>0.9</td>\n",
              "      <td>0.9</td>\n",
              "      <td>1.0</td>\n",
              "      <td>0.8</td>\n",
              "      <td>0.991223</td>\n",
              "      <td>0.677981</td>\n",
              "    </tr>\n",
              "    <tr>\n",
              "      <th>176398</th>\n",
              "      <td>0.9</td>\n",
              "      <td>0.9</td>\n",
              "      <td>1.0</td>\n",
              "      <td>0.9</td>\n",
              "      <td>0.973138</td>\n",
              "      <td>0.621028</td>\n",
              "    </tr>\n",
              "    <tr>\n",
              "      <th>176399</th>\n",
              "      <td>0.9</td>\n",
              "      <td>0.9</td>\n",
              "      <td>1.0</td>\n",
              "      <td>1.0</td>\n",
              "      <td>0.945392</td>\n",
              "      <td>0.559031</td>\n",
              "    </tr>\n",
              "  </tbody>\n",
              "</table>\n",
              "<p>176400 rows × 6 columns</p>\n",
              "</div>"
            ],
            "text/plain": [
              "         x1   x2   u1   u2     dotx1     dotx2\n",
              "0      -1.0 -1.0 -1.0 -1.0  0.908170 -0.541649\n",
              "1      -1.0 -1.0 -1.0 -0.9  0.945291 -0.621983\n",
              "2      -1.0 -1.0 -1.0 -0.8  0.973050 -0.696090\n",
              "3      -1.0 -1.0 -1.0 -0.7  0.991165 -0.763270\n",
              "4      -1.0 -1.0 -1.0 -0.6  0.999445 -0.822892\n",
              "...     ...  ...  ...  ...       ...       ...\n",
              "176395  0.9  0.9  1.0  0.6  0.997761  0.774820\n",
              "176396  0.9  0.9  1.0  0.7  0.999461  0.729393\n",
              "176397  0.9  0.9  1.0  0.8  0.991223  0.677981\n",
              "176398  0.9  0.9  1.0  0.9  0.973138  0.621028\n",
              "176399  0.9  0.9  1.0  1.0  0.945392  0.559031\n",
              "\n",
              "[176400 rows x 6 columns]"
            ]
          },
          "execution_count": 83,
          "metadata": {},
          "output_type": "execute_result"
        }
      ],
      "source": [
        "# Интервалы наблюдения\n",
        "t = np.arange(0, tmax, dt)\n",
        "\n",
        "# подготовка обучающей выборки\n",
        "column_names = ['x1','x2','u1','u2','dotx1','dotx2']\n",
        "train_set = []\n",
        "\n",
        "all_x01 = np.arange(-1, 1, dx)\n",
        "all_x02 = np.arange(-1, 1, dx)\n",
        "all_u1 = np.arange(umin[0], umax[0]+du, du)\n",
        "all_u2 = np.arange(umin[1], umax[1]+du, du)\n",
        "\n",
        "###\n",
        "print('Количество точек x[0] - %d' % (len(all_x01)))\n",
        "print('Количество точек x[1] - %d' % (len(all_x02)))\n",
        "print('Количество точек u[0] - %d' % (len(all_u1)))\n",
        "print('Количество точек u[1] - %d' % (len(all_u2)))\n",
        "###\n",
        "\n",
        "# цикл по разным начальным значениям угла поворота робота\n",
        "for x01 in all_x01:\n",
        "    for x02 in all_x02:\n",
        "        # Начальное состояние системы\n",
        "        x0 = [x01, x02]\n",
        "        # цикл по разным значениям управления\n",
        "        for u1 in all_u1:\n",
        "            for u2 in all_u2:\n",
        "                u = [u1, u2]\n",
        "\n",
        "                ts = Euler2(x0, u, dt, state_dim)\n",
        "\n",
        "                for row in ts:\n",
        "                    train_row = []\n",
        "                    for item in row[0]:\n",
        "                        train_row.append(item)\n",
        "\n",
        "                for item in u:\n",
        "                    train_row.append(item)\n",
        "\n",
        "                for item in row[1]:\n",
        "                    train_row.append(item)\n",
        "\n",
        "                train_set.append(train_row)\n",
        "\n",
        "\n",
        "dataframe = pd.DataFrame(train_set, columns=column_names)\n",
        "dataframe\n"
      ]
    },
    {
      "cell_type": "code",
      "execution_count": 84,
      "metadata": {},
      "outputs": [],
      "source": [
        "train, test = train_test_split(dataframe, test_size=0.1)"
      ]
    },
    {
      "cell_type": "code",
      "execution_count": 85,
      "metadata": {
        "colab": {
          "base_uri": "https://localhost:8080/",
          "height": 441
        },
        "id": "c9JasL18H4Ls",
        "outputId": "942e7548-3172-442c-ca4e-6ed63ac341e7"
      },
      "outputs": [
        {
          "name": "stdout",
          "output_type": "stream",
          "text": [
            "Число входов: 4, число выходов: 2\n"
          ]
        }
      ],
      "source": [
        "TS_x = dataframe.loc[:, ['x1', 'x2', 'u1', 'u2']]\n",
        "TS_y = dataframe.loc[:, ['dotx1', 'dotx2']]\n",
        "\n",
        "# число входов\n",
        "arg_num = TS_x.shape[1]\n",
        "\n",
        "# число выходов\n",
        "f_num = TS_y.shape[1]\n",
        "\n",
        "print('Число входов: %d, число выходов: %d' % (arg_num, f_num))\n"
      ]
    },
    {
      "cell_type": "markdown",
      "metadata": {
        "id": "Xho_6tfWUYEf"
      },
      "source": [
        "# Модель нейронной сети #\n"
      ]
    },
    {
      "cell_type": "code",
      "execution_count": 86,
      "metadata": {
        "id": "2eMG_-bP_D-_"
      },
      "outputs": [
        {
          "name": "stdout",
          "output_type": "stream",
          "text": [
            "cuda\n"
          ]
        }
      ],
      "source": [
        "# Параметры\n",
        "NUM_EPOCHS = 100 # Количество эпох\n",
        "LEARNING_RATE=1e-3 # Скорость обучение (Используется в методах оптимизации на основе градиентного спуска)\n",
        "HIDDEN_LAYERS = 100\n",
        "# Set device cuda for GPU if it's available otherwise run on the CPU\n",
        "device = torch.device(\"cuda\" if torch.cuda.is_available() else \"cpu\")\n",
        "print(device)"
      ]
    },
    {
      "cell_type": "code",
      "execution_count": 87,
      "metadata": {},
      "outputs": [],
      "source": [
        "class NNModel(nn.Module):\n",
        "    def __init__(self, input_dim, output_dim):\n",
        "        super(NNModel, self).__init__()\n",
        "        self.fc1 = nn.Linear(input_dim, HIDDEN_LAYERS)\n",
        "        self.fc2 = nn.Linear(HIDDEN_LAYERS, HIDDEN_LAYERS)\n",
        "        self.fc3 = nn.Linear(HIDDEN_LAYERS, output_dim)\n",
        "\n",
        "    def forward(self, x):\n",
        "        x = self.fc1(x)\n",
        "        x = torch.sigmoid(x)\n",
        "        x = self.fc2(x)\n",
        "        x = torch.sigmoid(x)\n",
        "        x = self.fc3(x)\n",
        "        return x\n"
      ]
    },
    {
      "cell_type": "code",
      "execution_count": 89,
      "metadata": {},
      "outputs": [],
      "source": [
        "class NNDataset(Dataset):\n",
        "  def __init__(self, dataframe, device):\n",
        "\n",
        "    TS_x = dataframe.loc[:, ['x1', 'x2', 'u1', 'u2']].values\n",
        "    TS_y = dataframe.loc[:,['dotx1','dotx2']].values\n",
        " \n",
        "    self.x_train=torch.tensor(TS_x,dtype=torch.float32).to(device)\n",
        "    self.y_train=torch.tensor(TS_y,dtype=torch.float32).to(device)\n",
        " \n",
        "  def __len__(self):\n",
        "    return len(self.y_train)\n",
        "   \n",
        "  def __getitem__(self,idx):\n",
        "    return self.x_train[idx],self.y_train[idx]"
      ]
    },
    {
      "cell_type": "code",
      "execution_count": 90,
      "metadata": {},
      "outputs": [],
      "source": [
        "train_dataset = NNDataset(train, device)\n",
        "test_dataset = NNDataset(test, device)\n",
        "train_loader=DataLoader(train_dataset,batch_size=1000,shuffle=True)\n",
        "test_loader=DataLoader(test_dataset,batch_size=1,shuffle=False)"
      ]
    },
    {
      "cell_type": "code",
      "execution_count": 91,
      "metadata": {},
      "outputs": [
        {
          "data": {
            "text/plain": [
              "NNModel(\n",
              "  (fc1): Linear(in_features=4, out_features=100, bias=True)\n",
              "  (fc2): Linear(in_features=100, out_features=100, bias=True)\n",
              "  (fc3): Linear(in_features=100, out_features=2, bias=True)\n",
              ")"
            ]
          },
          "execution_count": 91,
          "metadata": {},
          "output_type": "execute_result"
        }
      ],
      "source": [
        "# Initialize network\n",
        "model = NNModel(input_dim=arg_num, output_dim=f_num).to(device)\n",
        "model"
      ]
    },
    {
      "cell_type": "code",
      "execution_count": 92,
      "metadata": {},
      "outputs": [],
      "source": [
        "# Loss and optimizer\n",
        "optimizer = torch.optim.Adam(model.parameters(), lr=LEARNING_RATE)\n",
        "criterion = nn.MSELoss()"
      ]
    },
    {
      "cell_type": "code",
      "execution_count": 93,
      "metadata": {},
      "outputs": [],
      "source": [
        "# Check accuracy on training & test to see how good our model\n",
        "def check_accuracy(loader, model):\n",
        "    model.eval()\n",
        "\n",
        "    with torch.no_grad():\n",
        "        dist = 0\n",
        "        for x, y in loader:\n",
        "            scores = model(x)\n",
        "            dist = dist + (scores.cpu().detach().numpy() - y.cpu().detach().numpy())**2\n",
        "    model.train()\n",
        "    dist = (dist / len(loader)) **0.5\n",
        "\n",
        "    return dist.mean()"
      ]
    },
    {
      "cell_type": "code",
      "execution_count": 95,
      "metadata": {},
      "outputs": [
        {
          "name": "stdout",
          "output_type": "stream",
          "text": [
            "tensor([[ 8.0000e-01, -2.2204e-16,  5.0000e-01, -9.0000e-01]], device='cuda:0')\n",
            "tensor([[-0.3907,  0.6009]], device='cuda:0')\n"
          ]
        }
      ],
      "source": [
        "for x, y in test_loader:\n",
        "    print(x)\n",
        "    print(y)\n",
        "    break"
      ]
    },
    {
      "cell_type": "code",
      "execution_count": 96,
      "metadata": {},
      "outputs": [
        {
          "name": "stderr",
          "output_type": "stream",
          "text": [
            "100%|██████████| 159/159 [00:00<00:00, 175.22it/s]\n"
          ]
        },
        {
          "name": "stdout",
          "output_type": "stream",
          "text": [
            "Accuracy on test set: 0.22243285179138184\n",
            ":Loss on train: 0.11892016232013702\n"
          ]
        },
        {
          "name": "stderr",
          "output_type": "stream",
          "text": [
            "100%|██████████| 159/159 [00:00<00:00, 208.92it/s]\n",
            "100%|██████████| 159/159 [00:00<00:00, 213.69it/s]\n",
            "100%|██████████| 159/159 [00:00<00:00, 190.43it/s]\n",
            "100%|██████████| 159/159 [00:00<00:00, 250.12it/s]\n",
            "100%|██████████| 159/159 [00:00<00:00, 190.61it/s]\n",
            "100%|██████████| 159/159 [00:00<00:00, 246.89it/s]\n",
            "100%|██████████| 159/159 [00:00<00:00, 187.52it/s]\n",
            "100%|██████████| 159/159 [00:00<00:00, 213.76it/s]\n",
            "100%|██████████| 159/159 [00:00<00:00, 215.71it/s]\n",
            "100%|██████████| 159/159 [00:00<00:00, 213.79it/s]\n"
          ]
        },
        {
          "name": "stdout",
          "output_type": "stream",
          "text": [
            "Accuracy on test set: 0.0328017920255661\n",
            ":Loss on train: 0.0012327539705255497\n"
          ]
        },
        {
          "name": "stderr",
          "output_type": "stream",
          "text": [
            "100%|██████████| 159/159 [00:00<00:00, 215.32it/s]\n",
            "100%|██████████| 159/159 [00:00<00:00, 209.69it/s]\n",
            "100%|██████████| 159/159 [00:00<00:00, 189.82it/s]\n",
            "100%|██████████| 159/159 [00:00<00:00, 215.82it/s]\n",
            "100%|██████████| 159/159 [00:00<00:00, 191.41it/s]\n",
            "100%|██████████| 159/159 [00:00<00:00, 244.34it/s]\n",
            "100%|██████████| 159/159 [00:00<00:00, 214.67it/s]\n",
            "100%|██████████| 159/159 [00:00<00:00, 189.24it/s]\n",
            "100%|██████████| 159/159 [00:00<00:00, 216.50it/s]\n",
            "100%|██████████| 159/159 [00:00<00:00, 173.36it/s]\n"
          ]
        },
        {
          "name": "stdout",
          "output_type": "stream",
          "text": [
            "Accuracy on test set: 0.025407183915376663\n",
            ":Loss on train: 0.000742944115963208\n"
          ]
        },
        {
          "name": "stderr",
          "output_type": "stream",
          "text": [
            "100%|██████████| 159/159 [00:00<00:00, 244.32it/s]\n",
            "100%|██████████| 159/159 [00:00<00:00, 210.48it/s]\n",
            "100%|██████████| 159/159 [00:00<00:00, 182.63it/s]\n",
            "100%|██████████| 159/159 [00:00<00:00, 215.10it/s]\n",
            "100%|██████████| 159/159 [00:00<00:00, 194.86it/s]\n",
            "100%|██████████| 159/159 [00:00<00:00, 221.76it/s]\n",
            "100%|██████████| 159/159 [00:00<00:00, 175.93it/s]\n",
            "100%|██████████| 159/159 [00:00<00:00, 250.94it/s]\n",
            "100%|██████████| 159/159 [00:00<00:00, 212.35it/s]\n",
            "100%|██████████| 159/159 [00:00<00:00, 194.32it/s]\n"
          ]
        },
        {
          "name": "stdout",
          "output_type": "stream",
          "text": [
            "Accuracy on test set: 0.02298271842300892\n",
            ":Loss on train: 0.0006558809791100006\n"
          ]
        },
        {
          "name": "stderr",
          "output_type": "stream",
          "text": [
            "100%|██████████| 159/159 [00:00<00:00, 220.20it/s]\n",
            "100%|██████████| 159/159 [00:00<00:00, 217.01it/s]\n",
            "100%|██████████| 159/159 [00:00<00:00, 219.23it/s]\n",
            "100%|██████████| 159/159 [00:00<00:00, 195.56it/s]\n",
            "100%|██████████| 159/159 [00:00<00:00, 240.76it/s]\n",
            "100%|██████████| 159/159 [00:00<00:00, 193.12it/s]\n",
            "100%|██████████| 159/159 [00:00<00:00, 250.37it/s]\n",
            "100%|██████████| 159/159 [00:00<00:00, 209.99it/s]\n",
            "100%|██████████| 159/159 [00:00<00:00, 197.89it/s]\n",
            "100%|██████████| 159/159 [00:00<00:00, 224.35it/s]\n"
          ]
        },
        {
          "name": "stdout",
          "output_type": "stream",
          "text": [
            "Accuracy on test set: 0.021969709545373917\n",
            ":Loss on train: 0.0005921114065154286\n"
          ]
        },
        {
          "name": "stderr",
          "output_type": "stream",
          "text": [
            "100%|██████████| 159/159 [00:00<00:00, 187.24it/s]\n",
            "100%|██████████| 159/159 [00:00<00:00, 258.70it/s]\n",
            "100%|██████████| 159/159 [00:00<00:00, 214.32it/s]\n",
            "100%|██████████| 159/159 [00:00<00:00, 191.30it/s]\n",
            "100%|██████████| 159/159 [00:00<00:00, 215.46it/s]\n",
            "100%|██████████| 159/159 [00:00<00:00, 195.75it/s]\n",
            "100%|██████████| 159/159 [00:00<00:00, 260.06it/s]\n",
            "100%|██████████| 159/159 [00:00<00:00, 196.24it/s]\n",
            "100%|██████████| 159/159 [00:00<00:00, 249.61it/s]\n",
            "100%|██████████| 159/159 [00:00<00:00, 195.58it/s]\n"
          ]
        },
        {
          "name": "stdout",
          "output_type": "stream",
          "text": [
            "Accuracy on test set: 0.01939181610941887\n",
            ":Loss on train: 0.00048117483519427714\n"
          ]
        },
        {
          "name": "stderr",
          "output_type": "stream",
          "text": [
            "100%|██████████| 159/159 [00:00<00:00, 232.56it/s]\n",
            "100%|██████████| 159/159 [00:00<00:00, 192.73it/s]\n",
            "100%|██████████| 159/159 [00:00<00:00, 237.74it/s]\n",
            "100%|██████████| 159/159 [00:00<00:00, 211.59it/s]\n",
            "100%|██████████| 159/159 [00:00<00:00, 186.64it/s]\n",
            "100%|██████████| 159/159 [00:00<00:00, 185.96it/s]\n",
            "100%|██████████| 159/159 [00:00<00:00, 183.84it/s]\n",
            "100%|██████████| 159/159 [00:00<00:00, 249.73it/s]\n",
            "100%|██████████| 159/159 [00:00<00:00, 212.43it/s]\n",
            "100%|██████████| 159/159 [00:00<00:00, 187.28it/s]\n"
          ]
        },
        {
          "name": "stdout",
          "output_type": "stream",
          "text": [
            "Accuracy on test set: 0.020857829600572586\n",
            ":Loss on train: 0.0004021629556404345\n"
          ]
        },
        {
          "name": "stderr",
          "output_type": "stream",
          "text": [
            "100%|██████████| 159/159 [00:00<00:00, 214.20it/s]\n",
            "100%|██████████| 159/159 [00:00<00:00, 192.10it/s]\n",
            "100%|██████████| 159/159 [00:00<00:00, 247.17it/s]\n",
            "100%|██████████| 159/159 [00:00<00:00, 204.30it/s]\n",
            "100%|██████████| 159/159 [00:00<00:00, 179.97it/s]\n",
            "100%|██████████| 159/159 [00:00<00:00, 199.72it/s]\n",
            "100%|██████████| 159/159 [00:00<00:00, 181.31it/s]\n",
            "100%|██████████| 159/159 [00:00<00:00, 244.01it/s]\n",
            "100%|██████████| 159/159 [00:00<00:00, 191.37it/s]\n",
            "100%|██████████| 159/159 [00:00<00:00, 245.52it/s]\n"
          ]
        },
        {
          "name": "stdout",
          "output_type": "stream",
          "text": [
            "Accuracy on test set: 0.01701456308364868\n",
            ":Loss on train: 0.0003600948682031448\n"
          ]
        },
        {
          "name": "stderr",
          "output_type": "stream",
          "text": [
            "100%|██████████| 159/159 [00:00<00:00, 216.97it/s]\n",
            "100%|██████████| 159/159 [00:00<00:00, 188.79it/s]\n",
            "100%|██████████| 159/159 [00:00<00:00, 214.88it/s]\n",
            "100%|██████████| 159/159 [00:00<00:00, 204.53it/s]\n",
            "100%|██████████| 159/159 [00:00<00:00, 207.07it/s]\n",
            "100%|██████████| 159/159 [00:00<00:00, 182.21it/s]\n",
            "100%|██████████| 159/159 [00:00<00:00, 211.49it/s]\n",
            "100%|██████████| 159/159 [00:00<00:00, 187.97it/s]\n",
            "100%|██████████| 159/159 [00:00<00:00, 245.16it/s]\n",
            "100%|██████████| 159/159 [00:00<00:00, 215.59it/s]\n"
          ]
        },
        {
          "name": "stdout",
          "output_type": "stream",
          "text": [
            "Accuracy on test set: 0.013180212117731571\n",
            ":Loss on train: 0.00023518046184806094\n"
          ]
        },
        {
          "name": "stderr",
          "output_type": "stream",
          "text": [
            "100%|██████████| 159/159 [00:00<00:00, 195.14it/s]\n",
            "100%|██████████| 159/159 [00:00<00:00, 223.97it/s]\n",
            "100%|██████████| 159/159 [00:00<00:00, 192.96it/s]\n",
            "100%|██████████| 159/159 [00:00<00:00, 254.20it/s]\n",
            "100%|██████████| 159/159 [00:00<00:00, 220.41it/s]\n",
            "100%|██████████| 159/159 [00:00<00:00, 196.47it/s]\n",
            "100%|██████████| 159/159 [00:00<00:00, 210.17it/s]\n",
            "100%|██████████| 159/159 [00:00<00:00, 187.77it/s]\n",
            "100%|██████████| 159/159 [00:00<00:00, 255.91it/s]\n",
            "100%|██████████| 159/159 [00:00<00:00, 190.67it/s]\n"
          ]
        },
        {
          "name": "stdout",
          "output_type": "stream",
          "text": [
            "Accuracy on test set: 0.010431438684463501\n",
            ":Loss on train: 0.00012807996968120783\n"
          ]
        },
        {
          "name": "stderr",
          "output_type": "stream",
          "text": [
            "100%|██████████| 159/159 [00:00<00:00, 259.96it/s]\n",
            "100%|██████████| 159/159 [00:00<00:00, 199.15it/s]\n",
            "100%|██████████| 159/159 [00:00<00:00, 259.50it/s]\n",
            "100%|██████████| 159/159 [00:00<00:00, 199.22it/s]\n",
            "100%|██████████| 159/159 [00:00<00:00, 258.38it/s]\n",
            "100%|██████████| 159/159 [00:00<00:00, 222.32it/s]\n",
            "100%|██████████| 159/159 [00:00<00:00, 195.05it/s]\n",
            "100%|██████████| 159/159 [00:00<00:00, 221.92it/s]\n",
            "100%|██████████| 159/159 [00:00<00:00, 195.12it/s]\n"
          ]
        }
      ],
      "source": [
        "# Train Network\n",
        "for epoch in range(NUM_EPOCHS):\n",
        "    losses = []\n",
        "    for batch_idx, (data, targets) in enumerate(tqdm(train_loader)):\n",
        "        # forward\n",
        "        scores = model(data)\n",
        "        loss = criterion(scores, targets)\n",
        "\n",
        "        # backward\n",
        "        optimizer.zero_grad()\n",
        "        loss.backward()\n",
        "        # gradient descent or adam step\n",
        "        optimizer.step()\n",
        "        losses.append(loss.item())\n",
        "    if epoch % 10 == 0:\n",
        "        print(f\"Accuracy on test set: {check_accuracy(test_loader, model)}\")\n",
        "        print(f\":Loss on train: {np.mean(losses)}\")\n",
        "    \n"
      ]
    },
    {
      "cell_type": "markdown",
      "metadata": {
        "id": "QEZUL-6tAfOU"
      },
      "source": [
        "# Графики для обученной сети"
      ]
    },
    {
      "cell_type": "markdown",
      "metadata": {
        "id": "ztYK0YZ5CJIB"
      },
      "source": [
        "### Постоянные значения управления"
      ]
    },
    {
      "cell_type": "code",
      "execution_count": 97,
      "metadata": {
        "colab": {
          "base_uri": "https://localhost:8080/"
        },
        "id": "o6F066BxAfOZ",
        "outputId": "b27cdd7b-ecd0-471d-e93f-e7823f010ba6"
      },
      "outputs": [
        {
          "name": "stdout",
          "output_type": "stream",
          "text": [
            "Графики при x0 = [0.000000, 0.000000] и управлении = [1.000000, 0.500000]\n"
          ]
        }
      ],
      "source": [
        "# Интервалы наблюдения\n",
        "t = np.arange(0,tmax,dt)\n",
        "\n",
        "# Выбор начального значения вектора состояния\n",
        "x0kd = [0, 0]\n",
        "\n",
        "# Выбор значения управления - от -10 до 10\n",
        "uk1 = 1\n",
        "uk2 = 0.5\n",
        "\n",
        "print('Графики при x0 = [%f, %f] и управлении = [%f, %f]' % (x0kd[0], x0kd[1], uk1, uk2))\n",
        "\n",
        "uk = []\n",
        "for i in range(0,len(t)):\n",
        "  uk.append([uk1, uk2])\n"
      ]
    },
    {
      "cell_type": "code",
      "execution_count": 113,
      "metadata": {
        "colab": {
          "base_uri": "https://localhost:8080/",
          "height": 910
        },
        "id": "P4G1c7VSAfOb",
        "outputId": "ede5590a-7c96-4b70-be85-397186cc0000"
      },
      "outputs": [],
      "source": [
        "x2x1Str = ('График изменения x2 от x1')\n",
        "x1Str = ('График изменения x1 от t')\n",
        "x2Str = ('График изменения x2 от t')\n",
        "u1Str = ('График изменения u1 от t')\n",
        "u2Str = ('График изменения u2 от t')\n",
        "dotx1Str = ('График изменения dotx1 от t')\n",
        "dotx2Str = ('График изменения dotx2 от t')\n",
        "\n",
        "y_ref = []\n",
        "neural_res = []\n",
        "\n",
        "x0k = [x0kd[0], x0kd[1]]\n",
        "\n",
        "x0nn = []\n",
        "x0nn.append(x0k[0])  # x1\n",
        "x0nn.append(x0k[1])  # x2\n",
        "x0nn.append(uk[i][0])  # u1\n",
        "x0nn.append(uk[i][1])  # u2\n",
        "x_input = [x0nn]\n",
        "\n",
        "x0ns = []\n",
        "x0ns.append(x0k[0])  # x1\n",
        "x0ns.append(x0k[1])  # x2\n",
        "\n",
        "for i in range(0, len(t)):\n",
        "    nn_res = model(torch.Tensor(x_input).to(device)).cpu().detach().numpy()\n",
        "    opt_res = Euler2(x0k, uk[i], dt, state_dim)\n",
        "\n",
        "    if (len(nn_res) == 1 and len(opt_res) == 1):\n",
        "        y_row = []\n",
        "        nn_row = []\n",
        "\n",
        "        # reference state\n",
        "        for item in opt_res[0][0]:\n",
        "            y_row.append(item)\n",
        "\n",
        "        # nn state\n",
        "        for j in range(0, state_dim):\n",
        "            nn_row.append(x0ns[j] + dt * nn_res[0][j])\n",
        "\n",
        "        # control\n",
        "        for item in uk[i]:\n",
        "            y_row.append(item)\n",
        "            nn_row.append(item)\n",
        "\n",
        "        # reference derivative\n",
        "        for item in opt_res[0][1]:\n",
        "            y_row.append(item)\n",
        "\n",
        "        # nn derivative\n",
        "        for item in nn_res[0]:\n",
        "            nn_row.append(item)\n",
        "\n",
        "        # reference next state\n",
        "        for j in range(0, state_dim):\n",
        "            x0k[j] = x0k[j] + dt*y_row[4+j]\n",
        "\n",
        "        # nn next input\n",
        "        x0nn = []\n",
        "        if (i < len(t)-1):\n",
        "            x0nn.append(nn_row[0])  # x1\n",
        "            x0nn.append(nn_row[1])  # x2\n",
        "            x0nn.append(uk[i+1][0])  # u1\n",
        "            x0nn.append(uk[i+1][1])  # u2\n",
        "        x_input = [x0nn]\n",
        "\n",
        "        # check nn state angle for exeeding 2*pi value\n",
        "        if (nn_row[2] > 1):\n",
        "            nn_row[2] = nn_row[2] - 1\n",
        "        if (nn_row[2] < -1):\n",
        "            nn_row[2] = nn_row[2] + 1\n",
        "\n",
        "        # nn new current state\n",
        "        for j in range(0, state_dim):\n",
        "            x0ns[j] = nn_row[j]\n",
        "\n",
        "        y_ref.append(y_row)\n",
        "        neural_res.append(nn_row)"
      ]
    },
    {
      "cell_type": "code",
      "execution_count": 119,
      "metadata": {},
      "outputs": [
        {
          "data": {
            "text/plain": [
              "(6, 500)"
            ]
          },
          "execution_count": 119,
          "metadata": {},
          "output_type": "execute_result"
        }
      ],
      "source": [
        "np.asarray(neural_res).T.shape"
      ]
    },
    {
      "cell_type": "code",
      "execution_count": null,
      "metadata": {},
      "outputs": [],
      "source": [
        "y_ref = np.asarray(y_ref)\n",
        "y_ref = y_ref.T\n",
        "\n",
        "neural_res = np.asarray(neural_res)\n",
        "neural_res = neural_res.T\n",
        "\n",
        "fig, axs = plt.subplots(3, 3, figsize=(15, 15))\n",
        "\n",
        "# plt.figure(figsize=(12,9))\n",
        "#plt.plot(y_ref[0], y_ref[1], label=x2x1Str)\n",
        "# plt.xlabel('x1')\n",
        "# plt.ylabel('x2')\n",
        "# plt.grid()\n",
        "# plt.title(x2x1Str)\n",
        "\n",
        "axs[0, 0].plot(y_ref[0], y_ref[1], label=x2x1Str)\n",
        "axs[0, 0].plot(neural_res[0], neural_res[1], label=x2x1Str)\n",
        "axs[0, 0].set_xlabel('x1')\n",
        "axs[0, 0].set_ylabel('x2')\n",
        "axs[0, 0].grid()\n",
        "axs[0, 0].set_title(x2x1Str)\n",
        "\n",
        "\n",
        "axs[0, 1].plot(t, y_ref[3], label=u1Str)\n",
        "axs[0, 1].plot(t, neural_res[3], label=u1Str)\n",
        "axs[0, 1].set_xlabel('Время')\n",
        "axs[0, 1].set_ylabel('u1')\n",
        "axs[0, 1].grid()\n",
        "axs[0, 1].set_title(u1Str)\n",
        "\n",
        "\n",
        "axs[0, 2].plot(t, y_ref[4], label=u2Str)\n",
        "axs[0, 2].plot(t, neural_res[4], label=u2Str)\n",
        "axs[0, 2].set_xlabel('Время')\n",
        "axs[0, 2].set_ylabel('u2')\n",
        "axs[0, 2].grid()\n",
        "axs[0, 2].set_title(u2Str)\n",
        "\n",
        "\n",
        "axs[1, 0].plot(t, y_ref[0], label=x1Str)\n",
        "axs[1, 0].plot(t, neural_res[0], label=x1Str)\n",
        "axs[1, 0].set_xlabel('Время')\n",
        "axs[1, 0].set_ylabel('x1')\n",
        "axs[1, 0].grid()\n",
        "axs[1, 0].set_title(x1Str)\n",
        "\n",
        "\n",
        "axs[1, 1].plot(t, y_ref[1], label=x2Str)\n",
        "axs[1, 1].plot(t, neural_res[1], label=x2Str)\n",
        "axs[1, 1].set_xlabel('Время')\n",
        "axs[1, 1].set_ylabel('x2')\n",
        "axs[1, 1].grid()\n",
        "axs[1, 1].set_title(x2Str)\n",
        "\n",
        "\n",
        "axs[1, 2].plot(t, y_ref[2], label=x3Str)\n",
        "axs[1, 2].plot(t, neural_res[2], label=x3Str)\n",
        "axs[1, 2].set_xlabel('Время')\n",
        "axs[1, 2].set_ylabel('x3')\n",
        "axs[1, 2].grid()\n",
        "axs[1, 2].set_title(x3Str)\n",
        "\n",
        "\n",
        "axs[2, 0].plot(t, y_ref[5], label=dotx1Str)\n",
        "axs[2, 0].plot(t, neural_res[5], label=dotx1Str)\n",
        "axs[2, 0].set_xlabel('Время')\n",
        "axs[2, 0].set_ylabel('dotx1')\n",
        "axs[2, 0].grid()\n",
        "axs[2, 0].set_title(dotx1Str)\n",
        "\n",
        "\n",
        "axs[2, 1].plot(t, y_ref[6], label=dotx1Str)\n",
        "axs[2, 1].plot(t, neural_res[6], label=dotx1Str)\n",
        "axs[2, 1].set_xlabel('Время')\n",
        "axs[2, 1].set_ylabel('dotx2')\n",
        "axs[2, 1].grid()\n",
        "axs[2, 1].set_title(dotx1Str)\n",
        "\n",
        "\n",
        "axs[2, 2].plot(t, y_ref[7], label=dotx3Str)\n",
        "axs[2, 2].plot(t, neural_res[7], label=dotx3Str)\n",
        "axs[2, 2].set_xlabel('Время')\n",
        "axs[2, 2].set_ylabel('dotx3')\n",
        "axs[2, 2].grid()\n",
        "axs[2, 2].set_title(dotx3Str)"
      ]
    }
  ],
  "metadata": {
    "accelerator": "GPU",
    "colab": {
      "collapsed_sections": [],
      "name": "Копия блокнота \"MobileRobotODEModelIdentification.ipynb\"",
      "provenance": []
    },
    "interpreter": {
      "hash": "916dbcbb3f70747c44a77c7bcd40155683ae19c65e1c03b4aa3499c5328201f1"
    },
    "kernelspec": {
      "display_name": "Python 3.8.10 64-bit",
      "language": "python",
      "name": "python3"
    },
    "language_info": {
      "codemirror_mode": {
        "name": "ipython",
        "version": 3
      },
      "file_extension": ".py",
      "mimetype": "text/x-python",
      "name": "python",
      "nbconvert_exporter": "python",
      "pygments_lexer": "ipython3",
      "version": "3.8.10"
    }
  },
  "nbformat": 4,
  "nbformat_minor": 0
}
